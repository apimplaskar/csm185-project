{
 "cells": [
  {
   "cell_type": "code",
   "execution_count": 3,
   "metadata": {},
   "outputs": [],
   "source": [
    "from sklearn.model_selection import train_test_split\n",
    "from sklearn.ensemble import RandomForestClassifier\n",
    "import seaborn as sn\n",
    "import numpy as np\n",
    "import pandas as pd"
   ]
  },
  {
   "cell_type": "code",
   "execution_count": 2,
   "metadata": {},
   "outputs": [],
   "source": [
    "# GROUP: OCELOT\n",
    "# CSM 185"
   ]
  },
  {
   "cell_type": "code",
   "execution_count": 40,
   "metadata": {},
   "outputs": [
    {
     "data": {
      "text/html": [
       "<div>\n",
       "<style scoped>\n",
       "    .dataframe tbody tr th:only-of-type {\n",
       "        vertical-align: middle;\n",
       "    }\n",
       "\n",
       "    .dataframe tbody tr th {\n",
       "        vertical-align: top;\n",
       "    }\n",
       "\n",
       "    .dataframe thead th {\n",
       "        text-align: right;\n",
       "    }\n",
       "</style>\n",
       "<table border=\"1\" class=\"dataframe\">\n",
       "  <thead>\n",
       "    <tr style=\"text-align: right;\">\n",
       "      <th></th>\n",
       "      <th>Unnamed: 0</th>\n",
       "      <th>ICU</th>\n",
       "      <th>Age</th>\n",
       "      <th>Sex</th>\n",
       "      <th>Survival Probability</th>\n",
       "      <th>Score</th>\n",
       "      <th>Kidney</th>\n",
       "      <th>Blood</th>\n",
       "      <th>Cholesterol</th>\n",
       "      <th>Immune</th>\n",
       "      <th>...</th>\n",
       "      <th>O2</th>\n",
       "      <th>HR</th>\n",
       "      <th>BP</th>\n",
       "      <th>RBC</th>\n",
       "      <th>LDL</th>\n",
       "      <th>HDL</th>\n",
       "      <th>Platelet</th>\n",
       "      <th>WBC</th>\n",
       "      <th>INR</th>\n",
       "      <th>Death</th>\n",
       "    </tr>\n",
       "  </thead>\n",
       "  <tbody>\n",
       "    <tr>\n",
       "      <th>0</th>\n",
       "      <td>1</td>\n",
       "      <td>1</td>\n",
       "      <td>52</td>\n",
       "      <td>M</td>\n",
       "      <td>0.766291</td>\n",
       "      <td>0.781516</td>\n",
       "      <td>0.787664</td>\n",
       "      <td>0.832123</td>\n",
       "      <td>0.796536</td>\n",
       "      <td>0.791831</td>\n",
       "      <td>...</td>\n",
       "      <td>97.888907</td>\n",
       "      <td>70.595842</td>\n",
       "      <td>72.302804</td>\n",
       "      <td>4.528620</td>\n",
       "      <td>154.345895</td>\n",
       "      <td>82.816898</td>\n",
       "      <td>366460.717948</td>\n",
       "      <td>9694.497647</td>\n",
       "      <td>4.349166</td>\n",
       "      <td>0</td>\n",
       "    </tr>\n",
       "    <tr>\n",
       "      <th>1</th>\n",
       "      <td>2</td>\n",
       "      <td>1</td>\n",
       "      <td>63</td>\n",
       "      <td>M</td>\n",
       "      <td>0.618678</td>\n",
       "      <td>0.546628</td>\n",
       "      <td>0.652625</td>\n",
       "      <td>0.607587</td>\n",
       "      <td>0.720491</td>\n",
       "      <td>0.608628</td>\n",
       "      <td>...</td>\n",
       "      <td>95.967047</td>\n",
       "      <td>60.577436</td>\n",
       "      <td>97.691024</td>\n",
       "      <td>4.029332</td>\n",
       "      <td>156.811212</td>\n",
       "      <td>88.671451</td>\n",
       "      <td>442067.274025</td>\n",
       "      <td>9837.802775</td>\n",
       "      <td>5.352092</td>\n",
       "      <td>0</td>\n",
       "    </tr>\n",
       "    <tr>\n",
       "      <th>2</th>\n",
       "      <td>3</td>\n",
       "      <td>1</td>\n",
       "      <td>73</td>\n",
       "      <td>F</td>\n",
       "      <td>0.756719</td>\n",
       "      <td>0.694440</td>\n",
       "      <td>0.773898</td>\n",
       "      <td>0.711529</td>\n",
       "      <td>0.759109</td>\n",
       "      <td>0.763613</td>\n",
       "      <td>...</td>\n",
       "      <td>96.243915</td>\n",
       "      <td>64.369572</td>\n",
       "      <td>62.016562</td>\n",
       "      <td>4.475886</td>\n",
       "      <td>129.060571</td>\n",
       "      <td>44.629620</td>\n",
       "      <td>380889.982675</td>\n",
       "      <td>10092.940455</td>\n",
       "      <td>5.746028</td>\n",
       "      <td>0</td>\n",
       "    </tr>\n",
       "    <tr>\n",
       "      <th>3</th>\n",
       "      <td>4</td>\n",
       "      <td>1</td>\n",
       "      <td>69</td>\n",
       "      <td>M</td>\n",
       "      <td>0.550172</td>\n",
       "      <td>0.515593</td>\n",
       "      <td>0.539124</td>\n",
       "      <td>0.530283</td>\n",
       "      <td>0.573908</td>\n",
       "      <td>0.529306</td>\n",
       "      <td>...</td>\n",
       "      <td>95.694021</td>\n",
       "      <td>60.924825</td>\n",
       "      <td>63.594397</td>\n",
       "      <td>6.001980</td>\n",
       "      <td>157.810511</td>\n",
       "      <td>37.602695</td>\n",
       "      <td>399104.588757</td>\n",
       "      <td>4152.588614</td>\n",
       "      <td>7.720234</td>\n",
       "      <td>1</td>\n",
       "    </tr>\n",
       "    <tr>\n",
       "      <th>4</th>\n",
       "      <td>5</td>\n",
       "      <td>1</td>\n",
       "      <td>88</td>\n",
       "      <td>F</td>\n",
       "      <td>0.526302</td>\n",
       "      <td>0.570185</td>\n",
       "      <td>0.570456</td>\n",
       "      <td>0.508213</td>\n",
       "      <td>0.564809</td>\n",
       "      <td>0.575929</td>\n",
       "      <td>...</td>\n",
       "      <td>95.619407</td>\n",
       "      <td>96.888998</td>\n",
       "      <td>61.640907</td>\n",
       "      <td>4.349459</td>\n",
       "      <td>161.328371</td>\n",
       "      <td>34.751289</td>\n",
       "      <td>461508.072125</td>\n",
       "      <td>4470.457842</td>\n",
       "      <td>6.874477</td>\n",
       "      <td>0</td>\n",
       "    </tr>\n",
       "  </tbody>\n",
       "</table>\n",
       "<p>5 rows × 25 columns</p>\n",
       "</div>"
      ],
      "text/plain": [
       "   Unnamed: 0  ICU  Age Sex  Survival Probability     Score    Kidney  \\\n",
       "0           1    1   52   M              0.766291  0.781516  0.787664   \n",
       "1           2    1   63   M              0.618678  0.546628  0.652625   \n",
       "2           3    1   73   F              0.756719  0.694440  0.773898   \n",
       "3           4    1   69   M              0.550172  0.515593  0.539124   \n",
       "4           5    1   88   F              0.526302  0.570185  0.570456   \n",
       "\n",
       "      Blood  Cholesterol    Immune  ...           O2         HR         BP  \\\n",
       "0  0.832123     0.796536  0.791831  ...    97.888907  70.595842  72.302804   \n",
       "1  0.607587     0.720491  0.608628  ...    95.967047  60.577436  97.691024   \n",
       "2  0.711529     0.759109  0.763613  ...    96.243915  64.369572  62.016562   \n",
       "3  0.530283     0.573908  0.529306  ...    95.694021  60.924825  63.594397   \n",
       "4  0.508213     0.564809  0.575929  ...    95.619407  96.888998  61.640907   \n",
       "\n",
       "        RBC         LDL        HDL       Platelet           WBC       INR  \\\n",
       "0  4.528620  154.345895  82.816898  366460.717948   9694.497647  4.349166   \n",
       "1  4.029332  156.811212  88.671451  442067.274025   9837.802775  5.352092   \n",
       "2  4.475886  129.060571  44.629620  380889.982675  10092.940455  5.746028   \n",
       "3  6.001980  157.810511  37.602695  399104.588757   4152.588614  7.720234   \n",
       "4  4.349459  161.328371  34.751289  461508.072125   4470.457842  6.874477   \n",
       "\n",
       "   Death  \n",
       "0      0  \n",
       "1      0  \n",
       "2      0  \n",
       "3      1  \n",
       "4      0  \n",
       "\n",
       "[5 rows x 25 columns]"
      ]
     },
     "execution_count": 40,
     "metadata": {},
     "output_type": "execute_result"
    }
   ],
   "source": [
    "sim_staticV1 = pd.read_csv(\"../Data/Static_Data_ICU_var1.csv\")\n",
    "sim_staticV1.head()"
   ]
  },
  {
   "cell_type": "code",
   "execution_count": 41,
   "metadata": {},
   "outputs": [
    {
     "data": {
      "text/html": [
       "<div>\n",
       "<style scoped>\n",
       "    .dataframe tbody tr th:only-of-type {\n",
       "        vertical-align: middle;\n",
       "    }\n",
       "\n",
       "    .dataframe tbody tr th {\n",
       "        vertical-align: top;\n",
       "    }\n",
       "\n",
       "    .dataframe thead th {\n",
       "        text-align: right;\n",
       "    }\n",
       "</style>\n",
       "<table border=\"1\" class=\"dataframe\">\n",
       "  <thead>\n",
       "    <tr style=\"text-align: right;\">\n",
       "      <th></th>\n",
       "      <th>ICU</th>\n",
       "      <th>Age</th>\n",
       "      <th>Sex</th>\n",
       "      <th>Survival Probability</th>\n",
       "      <th>Score</th>\n",
       "      <th>Kidney</th>\n",
       "      <th>Blood</th>\n",
       "      <th>Cholesterol</th>\n",
       "      <th>Immune</th>\n",
       "      <th>ApacheII</th>\n",
       "      <th>...</th>\n",
       "      <th>O2</th>\n",
       "      <th>HR</th>\n",
       "      <th>BP</th>\n",
       "      <th>RBC</th>\n",
       "      <th>LDL</th>\n",
       "      <th>HDL</th>\n",
       "      <th>Platelet</th>\n",
       "      <th>WBC</th>\n",
       "      <th>INR</th>\n",
       "      <th>Death</th>\n",
       "    </tr>\n",
       "  </thead>\n",
       "  <tbody>\n",
       "    <tr>\n",
       "      <th>0</th>\n",
       "      <td>1</td>\n",
       "      <td>52</td>\n",
       "      <td>0</td>\n",
       "      <td>0.766291</td>\n",
       "      <td>0.781516</td>\n",
       "      <td>0.787664</td>\n",
       "      <td>0.832123</td>\n",
       "      <td>0.796536</td>\n",
       "      <td>0.791831</td>\n",
       "      <td>18.265559</td>\n",
       "      <td>...</td>\n",
       "      <td>97.888907</td>\n",
       "      <td>70.595842</td>\n",
       "      <td>72.302804</td>\n",
       "      <td>4.528620</td>\n",
       "      <td>154.345895</td>\n",
       "      <td>82.816898</td>\n",
       "      <td>366460.717948</td>\n",
       "      <td>9694.497647</td>\n",
       "      <td>4.349166</td>\n",
       "      <td>0</td>\n",
       "    </tr>\n",
       "    <tr>\n",
       "      <th>1</th>\n",
       "      <td>1</td>\n",
       "      <td>63</td>\n",
       "      <td>0</td>\n",
       "      <td>0.618678</td>\n",
       "      <td>0.546628</td>\n",
       "      <td>0.652625</td>\n",
       "      <td>0.607587</td>\n",
       "      <td>0.720491</td>\n",
       "      <td>0.608628</td>\n",
       "      <td>32.186435</td>\n",
       "      <td>...</td>\n",
       "      <td>95.967047</td>\n",
       "      <td>60.577436</td>\n",
       "      <td>97.691024</td>\n",
       "      <td>4.029332</td>\n",
       "      <td>156.811212</td>\n",
       "      <td>88.671451</td>\n",
       "      <td>442067.274025</td>\n",
       "      <td>9837.802775</td>\n",
       "      <td>5.352092</td>\n",
       "      <td>0</td>\n",
       "    </tr>\n",
       "    <tr>\n",
       "      <th>2</th>\n",
       "      <td>1</td>\n",
       "      <td>73</td>\n",
       "      <td>1</td>\n",
       "      <td>0.756719</td>\n",
       "      <td>0.694440</td>\n",
       "      <td>0.773898</td>\n",
       "      <td>0.711529</td>\n",
       "      <td>0.759109</td>\n",
       "      <td>0.763613</td>\n",
       "      <td>27.516390</td>\n",
       "      <td>...</td>\n",
       "      <td>96.243915</td>\n",
       "      <td>64.369572</td>\n",
       "      <td>62.016562</td>\n",
       "      <td>4.475886</td>\n",
       "      <td>129.060571</td>\n",
       "      <td>44.629620</td>\n",
       "      <td>380889.982675</td>\n",
       "      <td>10092.940455</td>\n",
       "      <td>5.746028</td>\n",
       "      <td>0</td>\n",
       "    </tr>\n",
       "    <tr>\n",
       "      <th>3</th>\n",
       "      <td>1</td>\n",
       "      <td>69</td>\n",
       "      <td>0</td>\n",
       "      <td>0.550172</td>\n",
       "      <td>0.515593</td>\n",
       "      <td>0.539124</td>\n",
       "      <td>0.530283</td>\n",
       "      <td>0.573908</td>\n",
       "      <td>0.529306</td>\n",
       "      <td>30.671936</td>\n",
       "      <td>...</td>\n",
       "      <td>95.694021</td>\n",
       "      <td>60.924825</td>\n",
       "      <td>63.594397</td>\n",
       "      <td>6.001980</td>\n",
       "      <td>157.810511</td>\n",
       "      <td>37.602695</td>\n",
       "      <td>399104.588757</td>\n",
       "      <td>4152.588614</td>\n",
       "      <td>7.720234</td>\n",
       "      <td>1</td>\n",
       "    </tr>\n",
       "    <tr>\n",
       "      <th>4</th>\n",
       "      <td>1</td>\n",
       "      <td>88</td>\n",
       "      <td>1</td>\n",
       "      <td>0.526302</td>\n",
       "      <td>0.570185</td>\n",
       "      <td>0.570456</td>\n",
       "      <td>0.508213</td>\n",
       "      <td>0.564809</td>\n",
       "      <td>0.575929</td>\n",
       "      <td>29.944591</td>\n",
       "      <td>...</td>\n",
       "      <td>95.619407</td>\n",
       "      <td>96.888998</td>\n",
       "      <td>61.640907</td>\n",
       "      <td>4.349459</td>\n",
       "      <td>161.328371</td>\n",
       "      <td>34.751289</td>\n",
       "      <td>461508.072125</td>\n",
       "      <td>4470.457842</td>\n",
       "      <td>6.874477</td>\n",
       "      <td>0</td>\n",
       "    </tr>\n",
       "  </tbody>\n",
       "</table>\n",
       "<p>5 rows × 23 columns</p>\n",
       "</div>"
      ],
      "text/plain": [
       "   ICU  Age  Sex  Survival Probability     Score    Kidney     Blood  \\\n",
       "0    1   52    0              0.766291  0.781516  0.787664  0.832123   \n",
       "1    1   63    0              0.618678  0.546628  0.652625  0.607587   \n",
       "2    1   73    1              0.756719  0.694440  0.773898  0.711529   \n",
       "3    1   69    0              0.550172  0.515593  0.539124  0.530283   \n",
       "4    1   88    1              0.526302  0.570185  0.570456  0.508213   \n",
       "\n",
       "   Cholesterol    Immune   ApacheII  ...           O2         HR         BP  \\\n",
       "0     0.796536  0.791831  18.265559  ...    97.888907  70.595842  72.302804   \n",
       "1     0.720491  0.608628  32.186435  ...    95.967047  60.577436  97.691024   \n",
       "2     0.759109  0.763613  27.516390  ...    96.243915  64.369572  62.016562   \n",
       "3     0.573908  0.529306  30.671936  ...    95.694021  60.924825  63.594397   \n",
       "4     0.564809  0.575929  29.944591  ...    95.619407  96.888998  61.640907   \n",
       "\n",
       "        RBC         LDL        HDL       Platelet           WBC       INR  \\\n",
       "0  4.528620  154.345895  82.816898  366460.717948   9694.497647  4.349166   \n",
       "1  4.029332  156.811212  88.671451  442067.274025   9837.802775  5.352092   \n",
       "2  4.475886  129.060571  44.629620  380889.982675  10092.940455  5.746028   \n",
       "3  6.001980  157.810511  37.602695  399104.588757   4152.588614  7.720234   \n",
       "4  4.349459  161.328371  34.751289  461508.072125   4470.457842  6.874477   \n",
       "\n",
       "   Death  \n",
       "0      0  \n",
       "1      0  \n",
       "2      0  \n",
       "3      1  \n",
       "4      0  \n",
       "\n",
       "[5 rows x 23 columns]"
      ]
     },
     "execution_count": 41,
     "metadata": {},
     "output_type": "execute_result"
    }
   ],
   "source": [
    "# Clean data in preparation:\n",
    "sim_staticV1 = sim_staticV1.drop(columns=[\"Unnamed: 0\", \"CHM\"])\n",
    "sim_staticV1 = sim_staticV1.replace([\"M\", \"F\"], [0,1])\n",
    "sim_staticV1.head()"
   ]
  },
  {
   "cell_type": "code",
   "execution_count": 42,
   "metadata": {},
   "outputs": [
    {
     "data": {
      "text/plain": [
       "ICU                     0\n",
       "Age                     0\n",
       "Sex                     0\n",
       "Survival Probability    0\n",
       "Score                   0\n",
       "Kidney                  0\n",
       "Blood                   0\n",
       "Cholesterol             0\n",
       "Immune                  0\n",
       "ApacheII                0\n",
       "Urine Volume            0\n",
       "Creatinine              0\n",
       "Urea                    0\n",
       "O2                      0\n",
       "HR                      0\n",
       "BP                      0\n",
       "RBC                     0\n",
       "LDL                     0\n",
       "HDL                     0\n",
       "Platelet                0\n",
       "WBC                     0\n",
       "INR                     0\n",
       "Death                   0\n",
       "dtype: int64"
      ]
     },
     "execution_count": 42,
     "metadata": {},
     "output_type": "execute_result"
    }
   ],
   "source": [
    "sim_staticV1.isna().sum()"
   ]
  },
  {
   "cell_type": "code",
   "execution_count": 43,
   "metadata": {},
   "outputs": [],
   "source": [
    "# Goal: predict death tag based on data\n",
    "x_train1, x_test1, y_train1, y_test1 = train_test_split(sim_staticV1.drop([\"ICU\",\"Death\",\"Survival Probability\"], axis = \"columns\"), sim_staticV1[\"Death\"], test_size = 0.25)\n",
    "\n",
    "# creating train/test cohorts for model creation"
   ]
  },
  {
   "cell_type": "code",
   "execution_count": 44,
   "metadata": {},
   "outputs": [
    {
     "data": {
      "text/plain": [
       "RandomForestClassifier(bootstrap=True, ccp_alpha=0.0, class_weight=None,\n",
       "                       criterion='gini', max_depth=None, max_features='auto',\n",
       "                       max_leaf_nodes=None, max_samples=None,\n",
       "                       min_impurity_decrease=0.0, min_impurity_split=None,\n",
       "                       min_samples_leaf=1, min_samples_split=2,\n",
       "                       min_weight_fraction_leaf=0.0, n_estimators=100,\n",
       "                       n_jobs=None, oob_score=False, random_state=None,\n",
       "                       verbose=0, warm_start=False)"
      ]
     },
     "execution_count": 44,
     "metadata": {},
     "output_type": "execute_result"
    }
   ],
   "source": [
    "len(x_train1) #750\n",
    "model_staticV1 = RandomForestClassifier()\n",
    "model_staticV1.fit(x_train1, y_train1)"
   ]
  },
  {
   "cell_type": "code",
   "execution_count": 45,
   "metadata": {},
   "outputs": [
    {
     "data": {
      "text/plain": [
       "0.648"
      ]
     },
     "execution_count": 45,
     "metadata": {},
     "output_type": "execute_result"
    }
   ],
   "source": [
    "model_staticV1.score(x_test1, y_test1)"
   ]
  },
  {
   "cell_type": "code",
   "execution_count": 47,
   "metadata": {},
   "outputs": [],
   "source": [
    "y_predicted1 = model_staticV1.predict(x_test1)"
   ]
  },
  {
   "cell_type": "code",
   "execution_count": 56,
   "metadata": {},
   "outputs": [],
   "source": [
    "from sklearn.metrics import confusion_matrix\n",
    "from sklearn.metrics import roc_auc_score\n",
    "from sklearn.metrics import roc_curve\n",
    "from sklearn.metrics import auc"
   ]
  },
  {
   "cell_type": "code",
   "execution_count": 49,
   "metadata": {},
   "outputs": [],
   "source": [
    "cm_staticV1 = confusion_matrix(y_test1, y_predicted1)"
   ]
  },
  {
   "cell_type": "code",
   "execution_count": 50,
   "metadata": {},
   "outputs": [
    {
     "data": {
      "text/plain": [
       "Text(69,0.5,'Truth')"
      ]
     },
     "execution_count": 50,
     "metadata": {},
     "output_type": "execute_result"
    },
    {
     "data": {
      "image/png": "[encoded data removed]",
      "text/plain": [
       "<matplotlib.figure.Figure at 0x1a1b73f550>"
      ]
     },
     "metadata": {},
     "output_type": "display_data"
    }
   ],
   "source": [
    "%matplotlib inline\n",
    "import matplotlib.pyplot as plt\n",
    "plt.figure(figsize = (10,7))\n",
    "sn.heatmap(cm_staticV1, annot=True)\n",
    "plt.xlabel(\"Predicted\")\n",
    "plt.ylabel(\"Truth\")"
   ]
  },
  {
   "cell_type": "code",
   "execution_count": 51,
   "metadata": {},
   "outputs": [
    {
     "data": {
      "text/plain": [
       "0.5132586500283607"
      ]
     },
     "execution_count": 51,
     "metadata": {},
     "output_type": "execute_result"
    }
   ],
   "source": [
    "roc_auc_score(np.array(y_test1), np.array(y_predicted1))"
   ]
  },
  {
   "cell_type": "code",
   "execution_count": 54,
   "metadata": {},
   "outputs": [
    {
     "data": {
      "text/plain": [
       "(array([0.        , 0.05487805, 1.        ]),\n",
       " array([0.        , 0.08139535, 1.        ]),\n",
       " array([2, 1, 0]))"
      ]
     },
     "execution_count": 54,
     "metadata": {},
     "output_type": "execute_result"
    }
   ],
   "source": [
    "roc_curve(y_test1, y_predicted1)"
   ]
  },
  {
   "cell_type": "code",
   "execution_count": 58,
   "metadata": {},
   "outputs": [],
   "source": [
    "fpr1, tpr1, threshold1 = roc_curve(y_test1, y_predicted1)\n",
    "roc_auc1 = auc(fpr1, tpr1)"
   ]
  },
  {
   "cell_type": "code",
   "execution_count": 61,
   "metadata": {},
   "outputs": [
    {
     "data": {
      "image/png": "[encoded data removed]",
      "text/plain": [
       "<matplotlib.figure.Figure at 0x1a1e5a37f0>"
      ]
     },
     "metadata": {},
     "output_type": "display_data"
    }
   ],
   "source": [
    "plt.title('Receiver Operating Characteristic')\n",
    "plt.plot(fpr1, tpr1, 'b', label = 'AUC = %0.2f' % roc_auc1)\n",
    "plt.legend(loc = 'lower right')\n",
    "plt.plot([0, 1], [0, 1],'r--')\n",
    "plt.xlim([0, 1])\n",
    "plt.ylim([0, 1])\n",
    "plt.ylabel('True Positive Rate')\n",
    "plt.xlabel('False Positive Rate')\n",
    "plt.show()"
   ]
  },
  {
   "cell_type": "code",
   "execution_count": null,
   "metadata": {},
   "outputs": [],
   "source": []
  }
 ],
 "metadata": {
  "kernelspec": {
   "display_name": "Python 3",
   "language": "python",
   "name": "python3"
  },
  "language_info": {
   "codemirror_mode": {
    "name": "ipython",
    "version": 3
   },
   "file_extension": ".py",
   "mimetype": "text/x-python",
   "name": "python",
   "nbconvert_exporter": "python",
   "pygments_lexer": "ipython3",
   "version": "3.6.4"
  }
 },
 "nbformat": 4,
 "nbformat_minor": 2
}
