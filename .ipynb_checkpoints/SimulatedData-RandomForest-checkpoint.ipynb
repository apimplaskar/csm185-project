{
 "cells": [
  {
   "cell_type": "code",
   "execution_count": 1,
   "metadata": {},
   "outputs": [],
   "source": [
    "from sklearn.model_selection import train_test_split\n",
    "from sklearn.ensemble import RandomForestClassifier\n",
    "import seaborn as sn\n",
    "import numpy as np\n",
    "import pandas as pd"
   ]
  },
  {
   "cell_type": "code",
   "execution_count": 2,
   "metadata": {},
   "outputs": [],
   "source": [
    "np.random.seed(31415)"
   ]
  },
  {
   "cell_type": "code",
   "execution_count": 2,
   "metadata": {},
   "outputs": [],
   "source": [
    "# GROUP: OCELOT\n",
    "# CSM 185"
   ]
  },
  {
   "cell_type": "code",
   "execution_count": 6,
   "metadata": {},
   "outputs": [
    {
     "data": {
      "text/html": [
       "<div>\n",
       "<style scoped>\n",
       "    .dataframe tbody tr th:only-of-type {\n",
       "        vertical-align: middle;\n",
       "    }\n",
       "\n",
       "    .dataframe tbody tr th {\n",
       "        vertical-align: top;\n",
       "    }\n",
       "\n",
       "    .dataframe thead th {\n",
       "        text-align: right;\n",
       "    }\n",
       "</style>\n",
       "<table border=\"1\" class=\"dataframe\">\n",
       "  <thead>\n",
       "    <tr style=\"text-align: right;\">\n",
       "      <th></th>\n",
       "      <th>Unnamed: 0</th>\n",
       "      <th>ICU</th>\n",
       "      <th>Age</th>\n",
       "      <th>Sex</th>\n",
       "      <th>Survival Probability</th>\n",
       "      <th>Score</th>\n",
       "      <th>Kidney</th>\n",
       "      <th>Blood</th>\n",
       "      <th>Cholesterol</th>\n",
       "      <th>Immune</th>\n",
       "      <th>...</th>\n",
       "      <th>O2</th>\n",
       "      <th>HR</th>\n",
       "      <th>BP</th>\n",
       "      <th>RBC</th>\n",
       "      <th>LDL</th>\n",
       "      <th>HDL</th>\n",
       "      <th>Platelet</th>\n",
       "      <th>WBC</th>\n",
       "      <th>INR</th>\n",
       "      <th>Death</th>\n",
       "    </tr>\n",
       "  </thead>\n",
       "  <tbody>\n",
       "    <tr>\n",
       "      <th>0</th>\n",
       "      <td>1</td>\n",
       "      <td>1</td>\n",
       "      <td>52</td>\n",
       "      <td>M</td>\n",
       "      <td>0.766291</td>\n",
       "      <td>0.781516</td>\n",
       "      <td>0.787664</td>\n",
       "      <td>0.832123</td>\n",
       "      <td>0.796536</td>\n",
       "      <td>0.791831</td>\n",
       "      <td>...</td>\n",
       "      <td>97.888907</td>\n",
       "      <td>70.595842</td>\n",
       "      <td>72.302804</td>\n",
       "      <td>4.528620</td>\n",
       "      <td>154.345895</td>\n",
       "      <td>82.816898</td>\n",
       "      <td>366460.717948</td>\n",
       "      <td>9694.497647</td>\n",
       "      <td>4.349166</td>\n",
       "      <td>0</td>\n",
       "    </tr>\n",
       "    <tr>\n",
       "      <th>1</th>\n",
       "      <td>2</td>\n",
       "      <td>1</td>\n",
       "      <td>63</td>\n",
       "      <td>M</td>\n",
       "      <td>0.618678</td>\n",
       "      <td>0.546628</td>\n",
       "      <td>0.652625</td>\n",
       "      <td>0.607587</td>\n",
       "      <td>0.720491</td>\n",
       "      <td>0.608628</td>\n",
       "      <td>...</td>\n",
       "      <td>95.967047</td>\n",
       "      <td>60.577436</td>\n",
       "      <td>97.691024</td>\n",
       "      <td>4.029332</td>\n",
       "      <td>156.811212</td>\n",
       "      <td>88.671451</td>\n",
       "      <td>442067.274025</td>\n",
       "      <td>9837.802775</td>\n",
       "      <td>5.352092</td>\n",
       "      <td>0</td>\n",
       "    </tr>\n",
       "    <tr>\n",
       "      <th>2</th>\n",
       "      <td>3</td>\n",
       "      <td>1</td>\n",
       "      <td>73</td>\n",
       "      <td>F</td>\n",
       "      <td>0.756719</td>\n",
       "      <td>0.694440</td>\n",
       "      <td>0.773898</td>\n",
       "      <td>0.711529</td>\n",
       "      <td>0.759109</td>\n",
       "      <td>0.763613</td>\n",
       "      <td>...</td>\n",
       "      <td>96.243915</td>\n",
       "      <td>64.369572</td>\n",
       "      <td>62.016562</td>\n",
       "      <td>4.475886</td>\n",
       "      <td>129.060571</td>\n",
       "      <td>44.629620</td>\n",
       "      <td>380889.982675</td>\n",
       "      <td>10092.940455</td>\n",
       "      <td>5.746028</td>\n",
       "      <td>0</td>\n",
       "    </tr>\n",
       "    <tr>\n",
       "      <th>3</th>\n",
       "      <td>4</td>\n",
       "      <td>1</td>\n",
       "      <td>69</td>\n",
       "      <td>M</td>\n",
       "      <td>0.550172</td>\n",
       "      <td>0.515593</td>\n",
       "      <td>0.539124</td>\n",
       "      <td>0.530283</td>\n",
       "      <td>0.573908</td>\n",
       "      <td>0.529306</td>\n",
       "      <td>...</td>\n",
       "      <td>95.694021</td>\n",
       "      <td>60.924825</td>\n",
       "      <td>63.594397</td>\n",
       "      <td>6.001980</td>\n",
       "      <td>157.810511</td>\n",
       "      <td>37.602695</td>\n",
       "      <td>399104.588757</td>\n",
       "      <td>4152.588614</td>\n",
       "      <td>7.720234</td>\n",
       "      <td>1</td>\n",
       "    </tr>\n",
       "    <tr>\n",
       "      <th>4</th>\n",
       "      <td>5</td>\n",
       "      <td>1</td>\n",
       "      <td>88</td>\n",
       "      <td>F</td>\n",
       "      <td>0.526302</td>\n",
       "      <td>0.570185</td>\n",
       "      <td>0.570456</td>\n",
       "      <td>0.508213</td>\n",
       "      <td>0.564809</td>\n",
       "      <td>0.575929</td>\n",
       "      <td>...</td>\n",
       "      <td>95.619407</td>\n",
       "      <td>96.888998</td>\n",
       "      <td>61.640907</td>\n",
       "      <td>4.349459</td>\n",
       "      <td>161.328371</td>\n",
       "      <td>34.751289</td>\n",
       "      <td>461508.072125</td>\n",
       "      <td>4470.457842</td>\n",
       "      <td>6.874477</td>\n",
       "      <td>0</td>\n",
       "    </tr>\n",
       "  </tbody>\n",
       "</table>\n",
       "<p>5 rows × 25 columns</p>\n",
       "</div>"
      ],
      "text/plain": [
       "   Unnamed: 0  ICU  Age Sex  Survival Probability     Score    Kidney  \\\n",
       "0           1    1   52   M              0.766291  0.781516  0.787664   \n",
       "1           2    1   63   M              0.618678  0.546628  0.652625   \n",
       "2           3    1   73   F              0.756719  0.694440  0.773898   \n",
       "3           4    1   69   M              0.550172  0.515593  0.539124   \n",
       "4           5    1   88   F              0.526302  0.570185  0.570456   \n",
       "\n",
       "      Blood  Cholesterol    Immune  ...           O2         HR         BP  \\\n",
       "0  0.832123     0.796536  0.791831  ...    97.888907  70.595842  72.302804   \n",
       "1  0.607587     0.720491  0.608628  ...    95.967047  60.577436  97.691024   \n",
       "2  0.711529     0.759109  0.763613  ...    96.243915  64.369572  62.016562   \n",
       "3  0.530283     0.573908  0.529306  ...    95.694021  60.924825  63.594397   \n",
       "4  0.508213     0.564809  0.575929  ...    95.619407  96.888998  61.640907   \n",
       "\n",
       "        RBC         LDL        HDL       Platelet           WBC       INR  \\\n",
       "0  4.528620  154.345895  82.816898  366460.717948   9694.497647  4.349166   \n",
       "1  4.029332  156.811212  88.671451  442067.274025   9837.802775  5.352092   \n",
       "2  4.475886  129.060571  44.629620  380889.982675  10092.940455  5.746028   \n",
       "3  6.001980  157.810511  37.602695  399104.588757   4152.588614  7.720234   \n",
       "4  4.349459  161.328371  34.751289  461508.072125   4470.457842  6.874477   \n",
       "\n",
       "   Death  \n",
       "0      0  \n",
       "1      0  \n",
       "2      0  \n",
       "3      1  \n",
       "4      0  \n",
       "\n",
       "[5 rows x 25 columns]"
      ]
     },
     "execution_count": 6,
     "metadata": {},
     "output_type": "execute_result"
    }
   ],
   "source": [
    "sim_staticV1 = pd.read_csv(\"../Data/Static_Data_ICU_var1.csv\")\n",
    "sim_staticV2 = pd.read_csv(\"../Data/Static_Data_ICU_var2.csv\")\n",
    "sim_staticV3 = pd.read_csv(\"../Data/Static_Data_ICU_var3.csv\")\n",
    "\n",
    "# var2 dataset has higher variance in simulated values, so we would expect worse model performance\n",
    "# var3 dataset should have even higher variance\n",
    "\n",
    "sim_staticV1.head()"
   ]
  },
  {
   "cell_type": "code",
   "execution_count": 7,
   "metadata": {},
   "outputs": [
    {
     "data": {
      "text/html": [
       "<div>\n",
       "<style scoped>\n",
       "    .dataframe tbody tr th:only-of-type {\n",
       "        vertical-align: middle;\n",
       "    }\n",
       "\n",
       "    .dataframe tbody tr th {\n",
       "        vertical-align: top;\n",
       "    }\n",
       "\n",
       "    .dataframe thead th {\n",
       "        text-align: right;\n",
       "    }\n",
       "</style>\n",
       "<table border=\"1\" class=\"dataframe\">\n",
       "  <thead>\n",
       "    <tr style=\"text-align: right;\">\n",
       "      <th></th>\n",
       "      <th>ICU</th>\n",
       "      <th>Age</th>\n",
       "      <th>Sex</th>\n",
       "      <th>Survival Probability</th>\n",
       "      <th>Score</th>\n",
       "      <th>Kidney</th>\n",
       "      <th>Blood</th>\n",
       "      <th>Cholesterol</th>\n",
       "      <th>Immune</th>\n",
       "      <th>ApacheII</th>\n",
       "      <th>...</th>\n",
       "      <th>O2</th>\n",
       "      <th>HR</th>\n",
       "      <th>BP</th>\n",
       "      <th>RBC</th>\n",
       "      <th>LDL</th>\n",
       "      <th>HDL</th>\n",
       "      <th>Platelet</th>\n",
       "      <th>WBC</th>\n",
       "      <th>INR</th>\n",
       "      <th>Death</th>\n",
       "    </tr>\n",
       "  </thead>\n",
       "  <tbody>\n",
       "    <tr>\n",
       "      <th>0</th>\n",
       "      <td>1</td>\n",
       "      <td>73</td>\n",
       "      <td>0</td>\n",
       "      <td>0.663907</td>\n",
       "      <td>0.663907</td>\n",
       "      <td>0.663907</td>\n",
       "      <td>0.663907</td>\n",
       "      <td>0.663907</td>\n",
       "      <td>0.663907</td>\n",
       "      <td>24.202210</td>\n",
       "      <td>...</td>\n",
       "      <td>95.966298</td>\n",
       "      <td>96.134807</td>\n",
       "      <td>64.831492</td>\n",
       "      <td>4.383597</td>\n",
       "      <td>148.404420</td>\n",
       "      <td>88.235911</td>\n",
       "      <td>411927.844185</td>\n",
       "      <td>9920.220977</td>\n",
       "      <td>6.666508</td>\n",
       "      <td>0</td>\n",
       "    </tr>\n",
       "    <tr>\n",
       "      <th>1</th>\n",
       "      <td>1</td>\n",
       "      <td>73</td>\n",
       "      <td>0</td>\n",
       "      <td>0.663907</td>\n",
       "      <td>0.663907</td>\n",
       "      <td>0.663907</td>\n",
       "      <td>0.663907</td>\n",
       "      <td>0.663907</td>\n",
       "      <td>0.663907</td>\n",
       "      <td>24.202210</td>\n",
       "      <td>...</td>\n",
       "      <td>95.966298</td>\n",
       "      <td>96.134807</td>\n",
       "      <td>64.831492</td>\n",
       "      <td>4.383597</td>\n",
       "      <td>148.404420</td>\n",
       "      <td>39.831492</td>\n",
       "      <td>411927.844185</td>\n",
       "      <td>9920.220977</td>\n",
       "      <td>6.666508</td>\n",
       "      <td>0</td>\n",
       "    </tr>\n",
       "    <tr>\n",
       "      <th>2</th>\n",
       "      <td>1</td>\n",
       "      <td>86</td>\n",
       "      <td>1</td>\n",
       "      <td>0.477747</td>\n",
       "      <td>0.477747</td>\n",
       "      <td>0.477747</td>\n",
       "      <td>0.477747</td>\n",
       "      <td>0.477747</td>\n",
       "      <td>0.477747</td>\n",
       "      <td>30.854907</td>\n",
       "      <td>...</td>\n",
       "      <td>94.857516</td>\n",
       "      <td>100.569938</td>\n",
       "      <td>100.427453</td>\n",
       "      <td>6.127072</td>\n",
       "      <td>161.709813</td>\n",
       "      <td>34.287578</td>\n",
       "      <td>455613.886534</td>\n",
       "      <td>10585.490658</td>\n",
       "      <td>8.196629</td>\n",
       "      <td>0</td>\n",
       "    </tr>\n",
       "    <tr>\n",
       "      <th>3</th>\n",
       "      <td>1</td>\n",
       "      <td>63</td>\n",
       "      <td>0</td>\n",
       "      <td>0.725940</td>\n",
       "      <td>0.725940</td>\n",
       "      <td>0.725940</td>\n",
       "      <td>0.725940</td>\n",
       "      <td>0.725940</td>\n",
       "      <td>0.725940</td>\n",
       "      <td>22.062882</td>\n",
       "      <td>...</td>\n",
       "      <td>96.322853</td>\n",
       "      <td>94.708588</td>\n",
       "      <td>96.031441</td>\n",
       "      <td>5.848658</td>\n",
       "      <td>144.125764</td>\n",
       "      <td>41.614265</td>\n",
       "      <td>81644.950881</td>\n",
       "      <td>4925.997116</td>\n",
       "      <td>6.174463</td>\n",
       "      <td>0</td>\n",
       "    </tr>\n",
       "    <tr>\n",
       "      <th>4</th>\n",
       "      <td>1</td>\n",
       "      <td>70</td>\n",
       "      <td>0</td>\n",
       "      <td>0.663907</td>\n",
       "      <td>0.663907</td>\n",
       "      <td>0.663907</td>\n",
       "      <td>0.663907</td>\n",
       "      <td>0.663907</td>\n",
       "      <td>0.663907</td>\n",
       "      <td>24.202210</td>\n",
       "      <td>...</td>\n",
       "      <td>95.966298</td>\n",
       "      <td>63.865193</td>\n",
       "      <td>97.101105</td>\n",
       "      <td>5.916403</td>\n",
       "      <td>148.404420</td>\n",
       "      <td>39.831492</td>\n",
       "      <td>411927.844185</td>\n",
       "      <td>9920.220977</td>\n",
       "      <td>6.666508</td>\n",
       "      <td>0</td>\n",
       "    </tr>\n",
       "  </tbody>\n",
       "</table>\n",
       "<p>5 rows × 23 columns</p>\n",
       "</div>"
      ],
      "text/plain": [
       "   ICU  Age  Sex  Survival Probability     Score    Kidney     Blood  \\\n",
       "0    1   73    0              0.663907  0.663907  0.663907  0.663907   \n",
       "1    1   73    0              0.663907  0.663907  0.663907  0.663907   \n",
       "2    1   86    1              0.477747  0.477747  0.477747  0.477747   \n",
       "3    1   63    0              0.725940  0.725940  0.725940  0.725940   \n",
       "4    1   70    0              0.663907  0.663907  0.663907  0.663907   \n",
       "\n",
       "   Cholesterol    Immune   ApacheII  ...           O2          HR          BP  \\\n",
       "0     0.663907  0.663907  24.202210  ...    95.966298   96.134807   64.831492   \n",
       "1     0.663907  0.663907  24.202210  ...    95.966298   96.134807   64.831492   \n",
       "2     0.477747  0.477747  30.854907  ...    94.857516  100.569938  100.427453   \n",
       "3     0.725940  0.725940  22.062882  ...    96.322853   94.708588   96.031441   \n",
       "4     0.663907  0.663907  24.202210  ...    95.966298   63.865193   97.101105   \n",
       "\n",
       "        RBC         LDL        HDL       Platelet           WBC       INR  \\\n",
       "0  4.383597  148.404420  88.235911  411927.844185   9920.220977  6.666508   \n",
       "1  4.383597  148.404420  39.831492  411927.844185   9920.220977  6.666508   \n",
       "2  6.127072  161.709813  34.287578  455613.886534  10585.490658  8.196629   \n",
       "3  5.848658  144.125764  41.614265   81644.950881   4925.997116  6.174463   \n",
       "4  5.916403  148.404420  39.831492  411927.844185   9920.220977  6.666508   \n",
       "\n",
       "   Death  \n",
       "0      0  \n",
       "1      0  \n",
       "2      0  \n",
       "3      0  \n",
       "4      0  \n",
       "\n",
       "[5 rows x 23 columns]"
      ]
     },
     "execution_count": 7,
     "metadata": {},
     "output_type": "execute_result"
    }
   ],
   "source": [
    "# Clean data in preparation:\n",
    "sim_staticV1 = sim_staticV1.drop(columns=[\"Unnamed: 0\", \"CHM\"])\n",
    "sim_staticV1 = sim_staticV1.replace([\"M\", \"F\"], [0,1])\n",
    "\n",
    "sim_staticV2 = sim_staticV2.drop(columns=[\"Unnamed: 0\", \"CHM\"])\n",
    "sim_staticV2 = sim_staticV2.replace([\"M\", \"F\"], [0,1])\n",
    "\n",
    "sim_staticV3 = sim_staticV3.drop(columns=[\"Unnamed: 0\", \"CHM\"])\n",
    "sim_staticV3 = sim_staticV3.replace([\"M\", \"F\"], [0,1])\n",
    "\n",
    "sim_staticV3.head()"
   ]
  },
  {
   "cell_type": "code",
   "execution_count": 8,
   "metadata": {},
   "outputs": [
    {
     "data": {
      "text/plain": [
       "ICU                     0\n",
       "Age                     0\n",
       "Sex                     0\n",
       "Survival Probability    0\n",
       "Score                   0\n",
       "Kidney                  0\n",
       "Blood                   0\n",
       "Cholesterol             0\n",
       "Immune                  0\n",
       "ApacheII                0\n",
       "Urine Volume            0\n",
       "Creatinine              0\n",
       "Urea                    0\n",
       "O2                      0\n",
       "HR                      0\n",
       "BP                      0\n",
       "RBC                     0\n",
       "LDL                     0\n",
       "HDL                     0\n",
       "Platelet                0\n",
       "WBC                     0\n",
       "INR                     0\n",
       "Death                   0\n",
       "dtype: int64"
      ]
     },
     "execution_count": 8,
     "metadata": {},
     "output_type": "execute_result"
    }
   ],
   "source": [
    "sim_staticV1.isna().sum() # no null values (because data is simulated)"
   ]
  },
  {
   "cell_type": "code",
   "execution_count": 10,
   "metadata": {},
   "outputs": [],
   "source": [
    "# Goal: predict death tag based on data\n",
    "x_train1, x_test1, y_train1, y_test1 = train_test_split(sim_staticV1.drop([\"ICU\",\"Death\",\"Survival Probability\"], axis = \"columns\"), sim_staticV1[\"Death\"], test_size = 0.25)\n",
    "\n",
    "x_train2, x_test2, y_train2, y_test2 = train_test_split(sim_staticV2.drop([\"ICU\",\"Death\",\"Survival Probability\"], axis = \"columns\"), sim_staticV2[\"Death\"], test_size = 0.25)\n",
    "\n",
    "x_train3, x_test3, y_train3, y_test3 = train_test_split(sim_staticV3.drop([\"ICU\",\"Death\",\"Survival Probability\"], axis = \"columns\"), sim_staticV3[\"Death\"], test_size = 0.25)\n",
    "\n",
    "\n",
    "\n",
    "# creating train/test cohorts for model creation"
   ]
  },
  {
   "cell_type": "code",
   "execution_count": 11,
   "metadata": {},
   "outputs": [
    {
     "data": {
      "text/plain": [
       "RandomForestClassifier(bootstrap=True, ccp_alpha=0.0, class_weight=None,\n",
       "                       criterion='gini', max_depth=None, max_features='auto',\n",
       "                       max_leaf_nodes=None, max_samples=None,\n",
       "                       min_impurity_decrease=0.0, min_impurity_split=None,\n",
       "                       min_samples_leaf=1, min_samples_split=2,\n",
       "                       min_weight_fraction_leaf=0.0, n_estimators=100,\n",
       "                       n_jobs=None, oob_score=False, random_state=None,\n",
       "                       verbose=0, warm_start=False)"
      ]
     },
     "execution_count": 11,
     "metadata": {},
     "output_type": "execute_result"
    }
   ],
   "source": [
    "len(x_train1) # 750 elements\n",
    "model_staticV1 = RandomForestClassifier(n_estimators = 100)\n",
    "model_staticV1.fit(x_train1, y_train1)\n",
    "\n",
    "model_staticV2 = RandomForestClassifier(n_estimators = 100)\n",
    "model_staticV2.fit(x_train2, y_train2)\n",
    "\n",
    "model_staticV3 = RandomForestClassifier(n_estimators=100)\n",
    "model_staticV3.fit(x_train3, y_train3)\n",
    "\n",
    "# each random forest classifier will consist of 100 individual decision trees"
   ]
  },
  {
   "cell_type": "code",
   "execution_count": 12,
   "metadata": {},
   "outputs": [
    {
     "data": {
      "text/plain": [
       "0.68"
      ]
     },
     "execution_count": 12,
     "metadata": {},
     "output_type": "execute_result"
    }
   ],
   "source": [
    "model_staticV1.score(x_test1, y_test1) # model 1 score"
   ]
  },
  {
   "cell_type": "code",
   "execution_count": 13,
   "metadata": {},
   "outputs": [
    {
     "data": {
      "text/plain": [
       "0.744"
      ]
     },
     "execution_count": 13,
     "metadata": {},
     "output_type": "execute_result"
    }
   ],
   "source": [
    "model_staticV2.score(x_test2, y_test2) # model 2 score"
   ]
  },
  {
   "cell_type": "code",
   "execution_count": 14,
   "metadata": {},
   "outputs": [
    {
     "data": {
      "text/plain": [
       "0.64"
      ]
     },
     "execution_count": 14,
     "metadata": {},
     "output_type": "execute_result"
    }
   ],
   "source": [
    "model_staticV3.score(x_test3, y_test3)"
   ]
  },
  {
   "cell_type": "code",
   "execution_count": 15,
   "metadata": {},
   "outputs": [],
   "source": [
    "y_predicted1 = model_staticV1.predict(x_test1)"
   ]
  },
  {
   "cell_type": "code",
   "execution_count": 16,
   "metadata": {},
   "outputs": [],
   "source": [
    "y_predicted2 = model_staticV2.predict(x_test2)"
   ]
  },
  {
   "cell_type": "code",
   "execution_count": 17,
   "metadata": {},
   "outputs": [],
   "source": [
    "y_predicted3 = model_staticV3.predict(x_test3)"
   ]
  },
  {
   "cell_type": "code",
   "execution_count": 20,
   "metadata": {},
   "outputs": [],
   "source": [
    "from sklearn.metrics import confusion_matrix\n",
    "from sklearn.metrics import roc_auc_score\n",
    "from sklearn.metrics import roc_curve\n",
    "from sklearn.metrics import auc\n",
    "\n",
    "# for visualizations"
   ]
  },
  {
   "cell_type": "code",
   "execution_count": 23,
   "metadata": {},
   "outputs": [],
   "source": [
    "cm_staticV1 = confusion_matrix(y_test1, y_predicted1)\n",
    "cm_staticV2 = confusion_matrix(y_test2, y_predicted2)\n",
    "cm_staticV3 = confusion_matrix(y_test3, y_predicted3)"
   ]
  },
  {
   "cell_type": "code",
   "execution_count": 24,
   "metadata": {},
   "outputs": [
    {
     "data": {
      "text/plain": [
       "Text(69,0.5,'Truth')"
      ]
     },
     "execution_count": 24,
     "metadata": {},
     "output_type": "execute_result"
    },
    {
     "data": {
      "image/png": "[encoded data removed]",
      "text/plain": [
       "<matplotlib.figure.Figure at 0x1a174231d0>"
      ]
     },
     "metadata": {},
     "output_type": "display_data"
    }
   ],
   "source": [
    "%matplotlib inline\n",
    "import matplotlib.pyplot as plt\n",
    "plt.figure(figsize = (10,7))\n",
    "sn.heatmap(cm_staticV1, annot=True)\n",
    "plt.xlabel(\"Predicted\")\n",
    "plt.ylabel(\"Truth\")\n",
    "\n",
    "# confusion matrix for v1"
   ]
  },
  {
   "cell_type": "code",
   "execution_count": 25,
   "metadata": {},
   "outputs": [
    {
     "data": {
      "text/plain": [
       "Text(69,0.5,'Truth')"
      ]
     },
     "execution_count": 25,
     "metadata": {},
     "output_type": "execute_result"
    },
    {
     "data": {
      "image/png": "[encoded data removed]",
      "text/plain": [
       "<matplotlib.figure.Figure at 0x1a18b8e3c8>"
      ]
     },
     "metadata": {},
     "output_type": "display_data"
    }
   ],
   "source": [
    "plt.figure(figsize = (10,7))\n",
    "sn.heatmap(cm_staticV2, annot=True)\n",
    "plt.xlabel(\"Predicted\")\n",
    "plt.ylabel(\"Truth\")\n",
    "\n",
    "# confusion matrix for v2"
   ]
  },
  {
   "cell_type": "code",
   "execution_count": 26,
   "metadata": {},
   "outputs": [
    {
     "data": {
      "text/plain": [
       "Text(69,0.5,'Truth')"
      ]
     },
     "execution_count": 26,
     "metadata": {},
     "output_type": "execute_result"
    },
    {
     "data": {
      "image/png": "[encoded data removed]",
      "text/plain": [
       "<matplotlib.figure.Figure at 0x1a18a83e80>"
      ]
     },
     "metadata": {},
     "output_type": "display_data"
    }
   ],
   "source": [
    "plt.figure(figsize = (10,7))\n",
    "sn.heatmap(cm_staticV3, annot=True)\n",
    "plt.xlabel(\"Predicted\")\n",
    "plt.ylabel(\"Truth\")\n",
    "\n",
    "# confusion matrix for v3"
   ]
  },
  {
   "cell_type": "code",
   "execution_count": 27,
   "metadata": {},
   "outputs": [
    {
     "data": {
      "text/plain": [
       "0.5297794117647059"
      ]
     },
     "execution_count": 27,
     "metadata": {},
     "output_type": "execute_result"
    }
   ],
   "source": [
    "roc_auc_score(np.array(y_test1), np.array(y_predicted1)) "
   ]
  },
  {
   "cell_type": "code",
   "execution_count": 28,
   "metadata": {},
   "outputs": [
    {
     "data": {
      "text/plain": [
       "0.5675675675675675"
      ]
     },
     "execution_count": 28,
     "metadata": {},
     "output_type": "execute_result"
    }
   ],
   "source": [
    "roc_auc_score(np.array(y_test2), np.array(y_predicted2)) "
   ]
  },
  {
   "cell_type": "code",
   "execution_count": 29,
   "metadata": {},
   "outputs": [
    {
     "data": {
      "text/plain": [
       "0.42105263157894735"
      ]
     },
     "execution_count": 29,
     "metadata": {},
     "output_type": "execute_result"
    }
   ],
   "source": [
    "roc_auc_score(np.array(y_test3), np.array(y_predicted3)) "
   ]
  },
  {
   "cell_type": "code",
   "execution_count": 30,
   "metadata": {},
   "outputs": [
    {
     "data": {
      "text/plain": [
       "(array([0.        , 0.05294118, 1.        ]),\n",
       " array([0.    , 0.1125, 1.    ]),\n",
       " array([2, 1, 0]))"
      ]
     },
     "execution_count": 30,
     "metadata": {},
     "output_type": "execute_result"
    }
   ],
   "source": [
    "roc_curve(y_test1, y_predicted1)"
   ]
  },
  {
   "cell_type": "code",
   "execution_count": 31,
   "metadata": {},
   "outputs": [
    {
     "data": {
      "text/plain": [
       "(array([0.        , 0.06486486, 1.        ]),\n",
       " array([0. , 0.2, 1. ]),\n",
       " array([2, 1, 0]))"
      ]
     },
     "execution_count": 31,
     "metadata": {},
     "output_type": "execute_result"
    }
   ],
   "source": [
    "roc_curve(y_test2, y_predicted2)"
   ]
  },
  {
   "cell_type": "code",
   "execution_count": 32,
   "metadata": {},
   "outputs": [
    {
     "data": {
      "text/plain": [
       "(array([0.        , 0.15789474, 1.        ]),\n",
       " array([0., 0., 1.]),\n",
       " array([2, 1, 0]))"
      ]
     },
     "execution_count": 32,
     "metadata": {},
     "output_type": "execute_result"
    }
   ],
   "source": [
    "roc_curve(y_test3, y_predicted3)"
   ]
  },
  {
   "cell_type": "code",
   "execution_count": 33,
   "metadata": {},
   "outputs": [],
   "source": [
    "fpr1, tpr1, threshold1 = roc_curve(y_test1, y_predicted1)\n",
    "roc_auc1 = auc(fpr1, tpr1)\n",
    "\n",
    "fpr2, tpr2, threshold2 = roc_curve(y_test2, y_predicted2)\n",
    "roc_auc2 = auc(fpr2, tpr2)\n",
    "\n",
    "fpr3, tpr3, threshold3 = roc_curve(y_test3, y_predicted3)\n",
    "roc_auc3 = auc(fpr3, tpr3)"
   ]
  },
  {
   "cell_type": "code",
   "execution_count": 34,
   "metadata": {},
   "outputs": [
    {
     "data": {
      "image/png": "[encoded data removed]",
      "text/plain": [
       "<matplotlib.figure.Figure at 0x1a18a1b860>"
      ]
     },
     "metadata": {},
     "output_type": "display_data"
    }
   ],
   "source": [
    "plt.title('Receiver Operating Characteristic - V1')\n",
    "plt.plot(fpr1, tpr1, 'b', label = 'AUC = %0.2f' % roc_auc1)\n",
    "plt.legend(loc = 'lower right')\n",
    "plt.plot([0, 1], [0, 1],'r--')\n",
    "plt.xlim([0, 1])\n",
    "plt.ylim([0, 1])\n",
    "plt.ylabel('True Positive Rate')\n",
    "plt.xlabel('False Positive Rate')\n",
    "plt.show()\n",
    "\n",
    "# ROC Curve for v1"
   ]
  },
  {
   "cell_type": "code",
   "execution_count": 35,
   "metadata": {},
   "outputs": [
    {
     "data": {
      "image/png": "[encoded data removed]",
      "text/plain": [
       "<matplotlib.figure.Figure at 0x1a17cc42e8>"
      ]
     },
     "metadata": {},
     "output_type": "display_data"
    }
   ],
   "source": [
    "plt.title('Receiver Operating Characteristic - V2')\n",
    "plt.plot(fpr2, tpr2, 'b', label = 'AUC = %0.2f' % roc_auc2)\n",
    "plt.legend(loc = 'lower right')\n",
    "plt.plot([0, 1], [0, 1],'r--')\n",
    "plt.xlim([0, 1])\n",
    "plt.ylim([0, 1])\n",
    "plt.ylabel('True Positive Rate')\n",
    "plt.xlabel('False Positive Rate')\n",
    "plt.show()\n",
    "\n",
    "# ROC Curve for v2"
   ]
  },
  {
   "cell_type": "code",
   "execution_count": 36,
   "metadata": {},
   "outputs": [
    {
     "data": {
      "image/png": "[encoded data removed]",
      "text/plain": [
       "<matplotlib.figure.Figure at 0x1a1794ecf8>"
      ]
     },
     "metadata": {},
     "output_type": "display_data"
    }
   ],
   "source": [
    "plt.title('Receiver Operating Characteristic - V3')\n",
    "plt.plot(fpr3, tpr3, 'b', label = 'AUC = %0.2f' % roc_auc3)\n",
    "plt.legend(loc = 'lower right')\n",
    "plt.plot([0, 1], [0, 1],'r--')\n",
    "plt.xlim([0, 1])\n",
    "plt.ylim([0, 1])\n",
    "plt.ylabel('True Positive Rate')\n",
    "plt.xlabel('False Positive Rate')\n",
    "plt.show()\n",
    "\n",
    "# ROC Curve for v3"
   ]
  },
  {
   "cell_type": "code",
   "execution_count": null,
   "metadata": {},
   "outputs": [],
   "source": []
  }
 ],
 "metadata": {
  "kernelspec": {
   "display_name": "Python 3",
   "language": "python",
   "name": "python3"
  },
  "language_info": {
   "codemirror_mode": {
    "name": "ipython",
    "version": 3
   },
   "file_extension": ".py",
   "mimetype": "text/x-python",
   "name": "python",
   "nbconvert_exporter": "python",
   "pygments_lexer": "ipython3",
   "version": "3.6.4"
  }
 },
 "nbformat": 4,
 "nbformat_minor": 2
}
