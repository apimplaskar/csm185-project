{
 "cells": [
  {
   "cell_type": "code",
   "execution_count": null,
   "metadata": {},
   "outputs": [],
   "source": [
    "-- total amount of chartevents : 330712483\n",
    "/*    \n",
    "SELECT COUNT(*)\n",
    "FROM chartevents;\n",
    "*/\n",
    "\n",
    "-- confirming itemid for the following features \n",
    "-- arterial pressure (53), blood glucose (50809), heart rate (220045), hospital mortality (226893), apacheIV- mortality \n",
    "-- prediction (226994)\n",
    "/* \n",
    "SELECT * FROM d_items\n",
    "WHERE itemid IN (53, 50809, 220045, 226893, 226994);\n",
    "*/ \n",
    "\n",
    "-- filtering for quantity of itemid features from chartevents \n",
    "/*\n",
    "SELECT COUNT(*) FROM CHARTEVENTS \n",
    "WHERE itemid IN (53, 50809, 220045, 226893, 226994);\n",
    "*/\n",
    "\n",
    "--filtering for itemid features from chartevents \n",
    "/*\n",
    "SELECT * FROM CHARTEVENTS \n",
    "WHERE itemid IN (53, 50809, 220045, 226893, 226994);\n",
    "*/\n"
   ]
  }
 ],
 "metadata": {
  "kernelspec": {
   "display_name": "Python 3",
   "language": "python",
   "name": "python3"
  },
  "language_info": {
   "codemirror_mode": {
    "name": "ipython",
    "version": 3
   },
   "file_extension": ".py",
   "mimetype": "text/x-python",
   "name": "python",
   "nbconvert_exporter": "python",
   "pygments_lexer": "ipython3",
   "version": "3.7.3"
  }
 },
 "nbformat": 4,
 "nbformat_minor": 2
}
