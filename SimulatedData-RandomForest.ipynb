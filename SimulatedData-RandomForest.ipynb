{
 "cells": [
  {
   "cell_type": "code",
   "execution_count": null,
   "metadata": {},
   "outputs": [],
   "source": [
    "# Notebook for creating & running random forest models on the simulated data "
   ]
  },
  {
   "cell_type": "code",
   "execution_count": 1,
   "metadata": {},
   "outputs": [],
   "source": [
    "from sklearn.model_selection import train_test_split\n",
    "from sklearn.ensemble import RandomForestClassifier\n",
    "from sklearn.ensemble import RandomForestRegressor\n",
    "import seaborn as sn\n",
    "import numpy as np\n",
    "import pandas as pd"
   ]
  },
  {
   "cell_type": "code",
   "execution_count": 597,
   "metadata": {},
   "outputs": [],
   "source": [
    "#np.random.seed(31415)"
   ]
  },
  {
   "cell_type": "code",
   "execution_count": 598,
   "metadata": {},
   "outputs": [],
   "source": [
    "# GROUP: OCELOT\n",
    "# CSM 185"
   ]
  },
  {
   "cell_type": "code",
   "execution_count": 599,
   "metadata": {},
   "outputs": [
    {
     "data": {
      "text/html": [
       "<div>\n",
       "<style scoped>\n",
       "    .dataframe tbody tr th:only-of-type {\n",
       "        vertical-align: middle;\n",
       "    }\n",
       "\n",
       "    .dataframe tbody tr th {\n",
       "        vertical-align: top;\n",
       "    }\n",
       "\n",
       "    .dataframe thead th {\n",
       "        text-align: right;\n",
       "    }\n",
       "</style>\n",
       "<table border=\"1\" class=\"dataframe\">\n",
       "  <thead>\n",
       "    <tr style=\"text-align: right;\">\n",
       "      <th></th>\n",
       "      <th>Unnamed: 0</th>\n",
       "      <th>ICU</th>\n",
       "      <th>Age</th>\n",
       "      <th>Sex</th>\n",
       "      <th>Survival Probability</th>\n",
       "      <th>Score</th>\n",
       "      <th>Kidney</th>\n",
       "      <th>Blood</th>\n",
       "      <th>Cholesterol</th>\n",
       "      <th>Immune</th>\n",
       "      <th>...</th>\n",
       "      <th>O2</th>\n",
       "      <th>HR</th>\n",
       "      <th>BP</th>\n",
       "      <th>RBC</th>\n",
       "      <th>LDL</th>\n",
       "      <th>HDL</th>\n",
       "      <th>Platelet</th>\n",
       "      <th>WBC</th>\n",
       "      <th>INR</th>\n",
       "      <th>Death</th>\n",
       "    </tr>\n",
       "  </thead>\n",
       "  <tbody>\n",
       "    <tr>\n",
       "      <th>0</th>\n",
       "      <td>1</td>\n",
       "      <td>1</td>\n",
       "      <td>49</td>\n",
       "      <td>F</td>\n",
       "      <td>0.819668</td>\n",
       "      <td>0.932323</td>\n",
       "      <td>0.851415</td>\n",
       "      <td>0.789044</td>\n",
       "      <td>0.743088</td>\n",
       "      <td>0.848733</td>\n",
       "      <td>...</td>\n",
       "      <td>96.552552</td>\n",
       "      <td>70.815957</td>\n",
       "      <td>68.640993</td>\n",
       "      <td>4.445352</td>\n",
       "      <td>141.438747</td>\n",
       "      <td>80.428266</td>\n",
       "      <td>377446.453569</td>\n",
       "      <td>8689.129619</td>\n",
       "      <td>5.282563</td>\n",
       "      <td>0</td>\n",
       "    </tr>\n",
       "    <tr>\n",
       "      <th>1</th>\n",
       "      <td>2</td>\n",
       "      <td>1</td>\n",
       "      <td>85</td>\n",
       "      <td>M</td>\n",
       "      <td>0.493352</td>\n",
       "      <td>0.545629</td>\n",
       "      <td>0.400727</td>\n",
       "      <td>0.498132</td>\n",
       "      <td>0.448064</td>\n",
       "      <td>0.464661</td>\n",
       "      <td>...</td>\n",
       "      <td>95.167034</td>\n",
       "      <td>99.189290</td>\n",
       "      <td>63.011305</td>\n",
       "      <td>4.124222</td>\n",
       "      <td>157.806799</td>\n",
       "      <td>33.992189</td>\n",
       "      <td>0.000000</td>\n",
       "      <td>3484.471712</td>\n",
       "      <td>6.783162</td>\n",
       "      <td>1</td>\n",
       "    </tr>\n",
       "    <tr>\n",
       "      <th>2</th>\n",
       "      <td>3</td>\n",
       "      <td>1</td>\n",
       "      <td>65</td>\n",
       "      <td>M</td>\n",
       "      <td>0.658073</td>\n",
       "      <td>0.648700</td>\n",
       "      <td>0.612584</td>\n",
       "      <td>0.635265</td>\n",
       "      <td>0.596647</td>\n",
       "      <td>0.690954</td>\n",
       "      <td>...</td>\n",
       "      <td>96.031453</td>\n",
       "      <td>63.289582</td>\n",
       "      <td>66.286136</td>\n",
       "      <td>4.599221</td>\n",
       "      <td>163.033611</td>\n",
       "      <td>88.730209</td>\n",
       "      <td>384086.644694</td>\n",
       "      <td>5034.262028</td>\n",
       "      <td>7.582851</td>\n",
       "      <td>0</td>\n",
       "    </tr>\n",
       "    <tr>\n",
       "      <th>3</th>\n",
       "      <td>4</td>\n",
       "      <td>1</td>\n",
       "      <td>40</td>\n",
       "      <td>F</td>\n",
       "      <td>0.907399</td>\n",
       "      <td>0.859131</td>\n",
       "      <td>0.924469</td>\n",
       "      <td>0.954992</td>\n",
       "      <td>0.946001</td>\n",
       "      <td>1.000000</td>\n",
       "      <td>...</td>\n",
       "      <td>97.090119</td>\n",
       "      <td>71.956946</td>\n",
       "      <td>92.109964</td>\n",
       "      <td>5.577905</td>\n",
       "      <td>117.153138</td>\n",
       "      <td>68.678224</td>\n",
       "      <td>299955.144276</td>\n",
       "      <td>7851.228124</td>\n",
       "      <td>1.729525</td>\n",
       "      <td>0</td>\n",
       "    </tr>\n",
       "    <tr>\n",
       "      <th>4</th>\n",
       "      <td>5</td>\n",
       "      <td>1</td>\n",
       "      <td>40</td>\n",
       "      <td>F</td>\n",
       "      <td>0.850763</td>\n",
       "      <td>0.930617</td>\n",
       "      <td>0.895776</td>\n",
       "      <td>0.890731</td>\n",
       "      <td>0.876580</td>\n",
       "      <td>0.767765</td>\n",
       "      <td>...</td>\n",
       "      <td>97.769863</td>\n",
       "      <td>90.973826</td>\n",
       "      <td>67.955142</td>\n",
       "      <td>4.623505</td>\n",
       "      <td>126.284526</td>\n",
       "      <td>80.002718</td>\n",
       "      <td>358008.401336</td>\n",
       "      <td>4736.958890</td>\n",
       "      <td>6.370734</td>\n",
       "      <td>0</td>\n",
       "    </tr>\n",
       "  </tbody>\n",
       "</table>\n",
       "<p>5 rows × 25 columns</p>\n",
       "</div>"
      ],
      "text/plain": [
       "   Unnamed: 0  ICU  Age Sex  Survival Probability     Score    Kidney  \\\n",
       "0           1    1   49   F              0.819668  0.932323  0.851415   \n",
       "1           2    1   85   M              0.493352  0.545629  0.400727   \n",
       "2           3    1   65   M              0.658073  0.648700  0.612584   \n",
       "3           4    1   40   F              0.907399  0.859131  0.924469   \n",
       "4           5    1   40   F              0.850763  0.930617  0.895776   \n",
       "\n",
       "      Blood  Cholesterol    Immune  ...           O2         HR         BP  \\\n",
       "0  0.789044     0.743088  0.848733  ...    96.552552  70.815957  68.640993   \n",
       "1  0.498132     0.448064  0.464661  ...    95.167034  99.189290  63.011305   \n",
       "2  0.635265     0.596647  0.690954  ...    96.031453  63.289582  66.286136   \n",
       "3  0.954992     0.946001  1.000000  ...    97.090119  71.956946  92.109964   \n",
       "4  0.890731     0.876580  0.767765  ...    97.769863  90.973826  67.955142   \n",
       "\n",
       "        RBC         LDL        HDL       Platelet          WBC       INR  \\\n",
       "0  4.445352  141.438747  80.428266  377446.453569  8689.129619  5.282563   \n",
       "1  4.124222  157.806799  33.992189       0.000000  3484.471712  6.783162   \n",
       "2  4.599221  163.033611  88.730209  384086.644694  5034.262028  7.582851   \n",
       "3  5.577905  117.153138  68.678224  299955.144276  7851.228124  1.729525   \n",
       "4  4.623505  126.284526  80.002718  358008.401336  4736.958890  6.370734   \n",
       "\n",
       "   Death  \n",
       "0      0  \n",
       "1      1  \n",
       "2      0  \n",
       "3      0  \n",
       "4      0  \n",
       "\n",
       "[5 rows x 25 columns]"
      ]
     },
     "execution_count": 599,
     "metadata": {},
     "output_type": "execute_result"
    }
   ],
   "source": [
    "sim_staticV1 = pd.read_csv(\"../Data/Static_Data_ICU_var1_peak.csv\")\n",
    "sim_staticV2 = pd.read_csv(\"../Data/Static_Data_ICU_var2_peak.csv\")\n",
    "sim_staticV3 = pd.read_csv(\"../Data/Static_Data_ICU_var3.csv\")\n",
    "\n",
    "# var2 dataset has higher variance in simulated values, so we would expect worse model performance\n",
    "# var3 dataset should have even higher variance\n",
    "\n",
    "sim_staticV1.head()"
   ]
  },
  {
   "cell_type": "code",
   "execution_count": 600,
   "metadata": {},
   "outputs": [
    {
     "data": {
      "text/html": [
       "<div>\n",
       "<style scoped>\n",
       "    .dataframe tbody tr th:only-of-type {\n",
       "        vertical-align: middle;\n",
       "    }\n",
       "\n",
       "    .dataframe tbody tr th {\n",
       "        vertical-align: top;\n",
       "    }\n",
       "\n",
       "    .dataframe thead th {\n",
       "        text-align: right;\n",
       "    }\n",
       "</style>\n",
       "<table border=\"1\" class=\"dataframe\">\n",
       "  <thead>\n",
       "    <tr style=\"text-align: right;\">\n",
       "      <th></th>\n",
       "      <th>ICU</th>\n",
       "      <th>Age</th>\n",
       "      <th>Sex</th>\n",
       "      <th>Survival_Probability</th>\n",
       "      <th>Score</th>\n",
       "      <th>Kidney</th>\n",
       "      <th>Blood</th>\n",
       "      <th>Cholesterol</th>\n",
       "      <th>Immune</th>\n",
       "      <th>ApacheII</th>\n",
       "      <th>...</th>\n",
       "      <th>O2</th>\n",
       "      <th>HR</th>\n",
       "      <th>BP</th>\n",
       "      <th>RBC</th>\n",
       "      <th>LDL</th>\n",
       "      <th>HDL</th>\n",
       "      <th>Platelet</th>\n",
       "      <th>WBC</th>\n",
       "      <th>INR</th>\n",
       "      <th>Death</th>\n",
       "    </tr>\n",
       "  </thead>\n",
       "  <tbody>\n",
       "    <tr>\n",
       "      <th>995</th>\n",
       "      <td>1</td>\n",
       "      <td>48</td>\n",
       "      <td>0</td>\n",
       "      <td>0.784171</td>\n",
       "      <td>0.784171</td>\n",
       "      <td>0.784171</td>\n",
       "      <td>0.784171</td>\n",
       "      <td>0.784171</td>\n",
       "      <td>0.784171</td>\n",
       "      <td>19.969460</td>\n",
       "      <td>...</td>\n",
       "      <td>96.671757</td>\n",
       "      <td>93.312974</td>\n",
       "      <td>68.358783</td>\n",
       "      <td>4.517634</td>\n",
       "      <td>139.938921</td>\n",
       "      <td>83.297704</td>\n",
       "      <td>384132.790327</td>\n",
       "      <td>5170.229613</td>\n",
       "      <td>5.692976</td>\n",
       "      <td>0</td>\n",
       "    </tr>\n",
       "    <tr>\n",
       "      <th>996</th>\n",
       "      <td>1</td>\n",
       "      <td>37</td>\n",
       "      <td>0</td>\n",
       "      <td>0.856422</td>\n",
       "      <td>0.856422</td>\n",
       "      <td>0.856422</td>\n",
       "      <td>0.856422</td>\n",
       "      <td>0.856422</td>\n",
       "      <td>0.856422</td>\n",
       "      <td>17.078377</td>\n",
       "      <td>...</td>\n",
       "      <td>97.153604</td>\n",
       "      <td>91.385585</td>\n",
       "      <td>70.768019</td>\n",
       "      <td>5.690815</td>\n",
       "      <td>134.156754</td>\n",
       "      <td>45.768019</td>\n",
       "      <td>365148.008652</td>\n",
       "      <td>5507.522689</td>\n",
       "      <td>5.028027</td>\n",
       "      <td>0</td>\n",
       "    </tr>\n",
       "    <tr>\n",
       "      <th>997</th>\n",
       "      <td>1</td>\n",
       "      <td>69</td>\n",
       "      <td>0</td>\n",
       "      <td>0.695986</td>\n",
       "      <td>0.695986</td>\n",
       "      <td>0.695986</td>\n",
       "      <td>0.695986</td>\n",
       "      <td>0.695986</td>\n",
       "      <td>0.695986</td>\n",
       "      <td>23.101824</td>\n",
       "      <td>...</td>\n",
       "      <td>96.149696</td>\n",
       "      <td>95.401216</td>\n",
       "      <td>96.550912</td>\n",
       "      <td>5.881558</td>\n",
       "      <td>146.203648</td>\n",
       "      <td>40.748480</td>\n",
       "      <td>404701.978904</td>\n",
       "      <td>9810.182420</td>\n",
       "      <td>6.413420</td>\n",
       "      <td>0</td>\n",
       "    </tr>\n",
       "    <tr>\n",
       "      <th>998</th>\n",
       "      <td>1</td>\n",
       "      <td>84</td>\n",
       "      <td>1</td>\n",
       "      <td>0.565340</td>\n",
       "      <td>0.565340</td>\n",
       "      <td>0.565340</td>\n",
       "      <td>0.565340</td>\n",
       "      <td>0.565340</td>\n",
       "      <td>0.565340</td>\n",
       "      <td>27.612627</td>\n",
       "      <td>...</td>\n",
       "      <td>95.397896</td>\n",
       "      <td>61.591582</td>\n",
       "      <td>61.989478</td>\n",
       "      <td>6.024400</td>\n",
       "      <td>155.225254</td>\n",
       "      <td>92.214731</td>\n",
       "      <td>434322.916193</td>\n",
       "      <td>10261.262683</td>\n",
       "      <td>7.450904</td>\n",
       "      <td>1</td>\n",
       "    </tr>\n",
       "    <tr>\n",
       "      <th>999</th>\n",
       "      <td>1</td>\n",
       "      <td>74</td>\n",
       "      <td>0</td>\n",
       "      <td>0.663907</td>\n",
       "      <td>0.663907</td>\n",
       "      <td>0.663907</td>\n",
       "      <td>0.663907</td>\n",
       "      <td>0.663907</td>\n",
       "      <td>0.663907</td>\n",
       "      <td>24.202210</td>\n",
       "      <td>...</td>\n",
       "      <td>95.966298</td>\n",
       "      <td>63.865193</td>\n",
       "      <td>97.101105</td>\n",
       "      <td>4.383597</td>\n",
       "      <td>148.404420</td>\n",
       "      <td>88.235911</td>\n",
       "      <td>65029.504086</td>\n",
       "      <td>4676.408860</td>\n",
       "      <td>6.666508</td>\n",
       "      <td>0</td>\n",
       "    </tr>\n",
       "  </tbody>\n",
       "</table>\n",
       "<p>5 rows × 23 columns</p>\n",
       "</div>"
      ],
      "text/plain": [
       "     ICU  Age  Sex  Survival_Probability     Score    Kidney     Blood  \\\n",
       "995    1   48    0              0.784171  0.784171  0.784171  0.784171   \n",
       "996    1   37    0              0.856422  0.856422  0.856422  0.856422   \n",
       "997    1   69    0              0.695986  0.695986  0.695986  0.695986   \n",
       "998    1   84    1              0.565340  0.565340  0.565340  0.565340   \n",
       "999    1   74    0              0.663907  0.663907  0.663907  0.663907   \n",
       "\n",
       "     Cholesterol    Immune   ApacheII  ...           O2         HR         BP  \\\n",
       "995     0.784171  0.784171  19.969460  ...    96.671757  93.312974  68.358783   \n",
       "996     0.856422  0.856422  17.078377  ...    97.153604  91.385585  70.768019   \n",
       "997     0.695986  0.695986  23.101824  ...    96.149696  95.401216  96.550912   \n",
       "998     0.565340  0.565340  27.612627  ...    95.397896  61.591582  61.989478   \n",
       "999     0.663907  0.663907  24.202210  ...    95.966298  63.865193  97.101105   \n",
       "\n",
       "          RBC         LDL        HDL       Platelet           WBC       INR  \\\n",
       "995  4.517634  139.938921  83.297704  384132.790327   5170.229613  5.692976   \n",
       "996  5.690815  134.156754  45.768019  365148.008652   5507.522689  5.028027   \n",
       "997  5.881558  146.203648  40.748480  404701.978904   9810.182420  6.413420   \n",
       "998  6.024400  155.225254  92.214731  434322.916193  10261.262683  7.450904   \n",
       "999  4.383597  148.404420  88.235911   65029.504086   4676.408860  6.666508   \n",
       "\n",
       "     Death  \n",
       "995      0  \n",
       "996      0  \n",
       "997      0  \n",
       "998      1  \n",
       "999      0  \n",
       "\n",
       "[5 rows x 23 columns]"
      ]
     },
     "execution_count": 600,
     "metadata": {},
     "output_type": "execute_result"
    }
   ],
   "source": [
    "# Clean data in preparation:\n",
    "sim_staticV1 = sim_staticV1.drop(columns=[\"Unnamed: 0\", \"CHM\"])\n",
    "sim_staticV1 = sim_staticV1.replace([\"M\", \"F\"], [0,1])\n",
    "\n",
    "sim_staticV2 = sim_staticV2.drop(columns=[\"Unnamed: 0\", \"CHM\"])\n",
    "sim_staticV2 = sim_staticV2.replace([\"M\", \"F\"], [0,1])\n",
    "\n",
    "sim_staticV3 = sim_staticV3.drop(columns=[\"Unnamed: 0\", \"CHM\"])\n",
    "sim_staticV3 = sim_staticV3.replace([\"M\", \"F\"], [0,1])\n",
    "\n",
    "sim_staticV3.tail()"
   ]
  },
  {
   "cell_type": "code",
   "execution_count": 601,
   "metadata": {},
   "outputs": [
    {
     "data": {
      "text/plain": [
       "ICU                     0\n",
       "Age                     0\n",
       "Sex                     0\n",
       "Survival Probability    0\n",
       "Score                   0\n",
       "Kidney                  0\n",
       "Blood                   0\n",
       "Cholesterol             0\n",
       "Immune                  0\n",
       "ApacheII                0\n",
       "Urine Volume            0\n",
       "Creatinine              0\n",
       "Urea                    0\n",
       "O2                      0\n",
       "HR                      0\n",
       "BP                      0\n",
       "RBC                     0\n",
       "LDL                     0\n",
       "HDL                     0\n",
       "Platelet                0\n",
       "WBC                     0\n",
       "INR                     0\n",
       "Death                   0\n",
       "dtype: int64"
      ]
     },
     "execution_count": 601,
     "metadata": {},
     "output_type": "execute_result"
    }
   ],
   "source": [
    "sim_staticV1.isna().sum() # no null values (because data is simulated)"
   ]
  },
  {
   "cell_type": "code",
   "execution_count": 669,
   "metadata": {},
   "outputs": [],
   "source": [
    "# Goal: predict death tag based on data\n",
    "x_train1, x_test1, y_train1, y_test1 = train_test_split(sim_staticV1.drop([\"ICU\",\"Death\",\"Survival Probability\"], axis = \"columns\"), sim_staticV1[\"Death\"], test_size = 0.34)\n",
    "\n",
    "x_train2, x_test2, y_train2, y_test2 = train_test_split(sim_staticV2.drop([\"ICU\",\"Death\",\"Survival Probability\"], axis = \"columns\"), sim_staticV2[\"Death\"], test_size = 0.34)\n",
    "\n",
    "x_train3, x_test3, y_train3, y_test3 = train_test_split(sim_staticV3.drop([\"ICU\",\"Death\",\"Survival_Probability\"], axis = \"columns\"), sim_staticV3[\"Death\"], test_size = 0.34)\n",
    "\n",
    "x_trainR1, x_testR1, y_trainR1, y_testR1 = train_test_split(sim_staticV1.drop([\"ICU\",\"Death\",\"Survival Probability\"], axis = \"columns\"), sim_staticV1[\"Survival Probability\"], test_size = 0.34)\n",
    "\n",
    "x_trainR2, x_testR2, y_trainR2, y_testR2 = train_test_split(sim_staticV2.drop([\"ICU\",\"Death\",\"Survival Probability\"], axis = \"columns\"), sim_staticV2[\"Survival Probability\"], test_size = 0.34)\n",
    "\n",
    "x_trainR3, x_testR3, y_trainR3, y_testR3 = train_test_split(sim_staticV3.drop([\"ICU\",\"Death\",\"Survival_Probability\"], axis = \"columns\"), sim_staticV3[\"Survival_Probability\"], test_size = 0.34)\n",
    "\n",
    "\n",
    "# creating train/test cohorts for model creation"
   ]
  },
  {
   "cell_type": "code",
   "execution_count": 670,
   "metadata": {},
   "outputs": [
    {
     "data": {
      "text/plain": [
       "RandomForestRegressor(bootstrap=True, ccp_alpha=0.0, criterion='mse',\n",
       "                      max_depth=None, max_features='auto', max_leaf_nodes=None,\n",
       "                      max_samples=None, min_impurity_decrease=0.0,\n",
       "                      min_impurity_split=None, min_samples_leaf=1,\n",
       "                      min_samples_split=2, min_weight_fraction_leaf=0.0,\n",
       "                      n_estimators=100, n_jobs=None, oob_score=False,\n",
       "                      random_state=None, verbose=0, warm_start=False)"
      ]
     },
     "execution_count": 670,
     "metadata": {},
     "output_type": "execute_result"
    }
   ],
   "source": [
    "len(x_train1) # 750 elements\n",
    "model_staticV1 = RandomForestClassifier(n_estimators = 100)\n",
    "model_staticV1.fit(x_train1, y_train1)\n",
    "\n",
    "model_staticV2 = RandomForestClassifier(n_estimators = 100)\n",
    "model_staticV2.fit(x_train2, y_train2)\n",
    "\n",
    "model_staticV3 = RandomForestClassifier(n_estimators=100)\n",
    "model_staticV3.fit(x_train3, y_train3)\n",
    "\n",
    "model_staticRegV1 = RandomForestRegressor(n_estimators=100)\n",
    "model_staticRegV1.fit(x_trainR1, y_trainR1)\n",
    "\n",
    "model_staticRegV2 = RandomForestRegressor(n_estimators=100)\n",
    "model_staticRegV2.fit(x_trainR2, y_trainR2)\n",
    "    \n",
    "model_staticRegV3 = RandomForestRegressor(n_estimators=100)\n",
    "model_staticRegV3.fit(x_trainR3, y_trainR3)\n",
    "    \n",
    "    \n",
    "# each random forest classifier will consist of 100 individual decision trees"
   ]
  },
  {
   "cell_type": "code",
   "execution_count": 627,
   "metadata": {},
   "outputs": [
    {
     "data": {
      "text/plain": [
       "0.6441176470588236"
      ]
     },
     "execution_count": 627,
     "metadata": {},
     "output_type": "execute_result"
    }
   ],
   "source": [
    "model_staticV1.score(x_test1, y_test1) # model 1 score"
   ]
  },
  {
   "cell_type": "code",
   "execution_count": 628,
   "metadata": {},
   "outputs": [
    {
     "data": {
      "text/plain": [
       "0.6676470588235294"
      ]
     },
     "execution_count": 628,
     "metadata": {},
     "output_type": "execute_result"
    }
   ],
   "source": [
    "model_staticV2.score(x_test2, y_test2) # model 2 score"
   ]
  },
  {
   "cell_type": "code",
   "execution_count": 629,
   "metadata": {},
   "outputs": [
    {
     "data": {
      "text/plain": [
       "0.6411764705882353"
      ]
     },
     "execution_count": 629,
     "metadata": {},
     "output_type": "execute_result"
    }
   ],
   "source": [
    "model_staticV3.score(x_test3, y_test3)"
   ]
  },
  {
   "cell_type": "code",
   "execution_count": 630,
   "metadata": {},
   "outputs": [],
   "source": [
    "y_predicted1 = model_staticV1.predict(x_test1)"
   ]
  },
  {
   "cell_type": "code",
   "execution_count": 631,
   "metadata": {},
   "outputs": [],
   "source": [
    "y_predicted2 = model_staticV2.predict(x_test2)"
   ]
  },
  {
   "cell_type": "code",
   "execution_count": 632,
   "metadata": {},
   "outputs": [],
   "source": [
    "y_predicted3 = model_staticV3.predict(x_test3)"
   ]
  },
  {
   "cell_type": "code",
   "execution_count": 2,
   "metadata": {},
   "outputs": [],
   "source": [
    "from sklearn.metrics import confusion_matrix\n",
    "from sklearn.metrics import roc_auc_score\n",
    "from sklearn.metrics import roc_curve\n",
    "from sklearn.metrics import auc\n",
    "\n",
    "# for visualizations"
   ]
  },
  {
   "cell_type": "code",
   "execution_count": 634,
   "metadata": {},
   "outputs": [],
   "source": [
    "cm_staticV1 = confusion_matrix(y_test1, y_predicted1)\n",
    "cm_staticV2 = confusion_matrix(y_test2, y_predicted2)\n",
    "cm_staticV3 = confusion_matrix(y_test3, y_predicted3)"
   ]
  },
  {
   "cell_type": "code",
   "execution_count": 687,
   "metadata": {},
   "outputs": [
    {
     "data": {
      "image/png": "[encoded data removed]",
      "text/plain": [
       "<matplotlib.figure.Figure at 0x1a2392deb8>"
      ]
     },
     "metadata": {},
     "output_type": "display_data"
    }
   ],
   "source": [
    "%matplotlib inline\n",
    "import matplotlib.pyplot as plt\n",
    "plt.figure(figsize = (10,7))\n",
    "sn.heatmap(cm_staticV1, annot=True)\n",
    "plt.xlabel(\"Predicted\")\n",
    "plt.ylabel(\"Truth\")\n",
    "plt.savefig(\"V1-Classification-Confusion.png\")\n",
    "\n",
    "# confusion matrix for v1"
   ]
  },
  {
   "cell_type": "code",
   "execution_count": 688,
   "metadata": {},
   "outputs": [
    {
     "data": {
      "image/png": "[encoded data removed]",
      "text/plain": [
       "<matplotlib.figure.Figure at 0x1a258d12b0>"
      ]
     },
     "metadata": {},
     "output_type": "display_data"
    }
   ],
   "source": [
    "plt.figure(figsize = (10,7))\n",
    "sn.heatmap(cm_staticV2, annot=True)\n",
    "plt.xlabel(\"Predicted\")\n",
    "plt.ylabel(\"Truth\")\n",
    "plt.savefig(\"V2-Classification-Confusion.png\")\n",
    "\n",
    "# confusion matrix for v2"
   ]
  },
  {
   "cell_type": "code",
   "execution_count": 689,
   "metadata": {},
   "outputs": [
    {
     "data": {
      "image/png": "[encoded data removed]",
      "text/plain": [
       "<matplotlib.figure.Figure at 0x1a258daa20>"
      ]
     },
     "metadata": {},
     "output_type": "display_data"
    }
   ],
   "source": [
    "plt.figure(figsize = (10,7))\n",
    "sn.heatmap(cm_staticV3, annot=True)\n",
    "plt.xlabel(\"Predicted\")\n",
    "plt.ylabel(\"Truth\")\n",
    "plt.savefig(\"V3-Classification-Confusion.png\")\n",
    "\n",
    "# confusion matrix for v3"
   ]
  },
  {
   "cell_type": "code",
   "execution_count": 638,
   "metadata": {},
   "outputs": [
    {
     "data": {
      "text/plain": [
       "0.5245636716224952"
      ]
     },
     "execution_count": 638,
     "metadata": {},
     "output_type": "execute_result"
    }
   ],
   "source": [
    "roc_auc_score(np.array(y_test1), np.array(y_predicted1)) "
   ]
  },
  {
   "cell_type": "code",
   "execution_count": 639,
   "metadata": {},
   "outputs": [
    {
     "data": {
      "text/plain": [
       "0.5409090909090909"
      ]
     },
     "execution_count": 639,
     "metadata": {},
     "output_type": "execute_result"
    }
   ],
   "source": [
    "roc_auc_score(np.array(y_test2), np.array(y_predicted2)) "
   ]
  },
  {
   "cell_type": "code",
   "execution_count": 640,
   "metadata": {},
   "outputs": [
    {
     "data": {
      "text/plain": [
       "0.5140056022408963"
      ]
     },
     "execution_count": 640,
     "metadata": {},
     "output_type": "execute_result"
    }
   ],
   "source": [
    "roc_auc_score(np.array(y_test3), np.array(y_predicted3)) "
   ]
  },
  {
   "cell_type": "code",
   "execution_count": 641,
   "metadata": {},
   "outputs": [
    {
     "data": {
      "text/plain": [
       "(array([0.        , 0.07692308, 1.        ]),\n",
       " array([0.        , 0.12605042, 1.        ]),\n",
       " array([2, 1, 0]))"
      ]
     },
     "execution_count": 641,
     "metadata": {},
     "output_type": "execute_result"
    }
   ],
   "source": [
    "roc_curve(y_test1, y_predicted1)"
   ]
  },
  {
   "cell_type": "code",
   "execution_count": 642,
   "metadata": {},
   "outputs": [
    {
     "data": {
      "text/plain": [
       "(array([0. , 0.1, 1. ]),\n",
       " array([0.        , 0.18181818, 1.        ]),\n",
       " array([2, 1, 0]))"
      ]
     },
     "execution_count": 642,
     "metadata": {},
     "output_type": "execute_result"
    }
   ],
   "source": [
    "roc_curve(y_test2, y_predicted2)"
   ]
  },
  {
   "cell_type": "code",
   "execution_count": 643,
   "metadata": {},
   "outputs": [
    {
     "data": {
      "text/plain": [
       "(array([0.        , 0.16806723, 1.        ]),\n",
       " array([0.        , 0.19607843, 1.        ]),\n",
       " array([2, 1, 0]))"
      ]
     },
     "execution_count": 643,
     "metadata": {},
     "output_type": "execute_result"
    }
   ],
   "source": [
    "roc_curve(y_test3, y_predicted3)"
   ]
  },
  {
   "cell_type": "code",
   "execution_count": 644,
   "metadata": {},
   "outputs": [],
   "source": [
    "fpr1, tpr1, threshold1 = roc_curve(y_test1, y_predicted1)\n",
    "roc_auc1 = auc(fpr1, tpr1)\n",
    "\n",
    "fpr2, tpr2, threshold2 = roc_curve(y_test2, y_predicted2)\n",
    "roc_auc2 = auc(fpr2, tpr2)\n",
    "\n",
    "fpr3, tpr3, threshold3 = roc_curve(y_test3, y_predicted3)\n",
    "roc_auc3 = auc(fpr3, tpr3)"
   ]
  },
  {
   "cell_type": "code",
   "execution_count": 704,
   "metadata": {},
   "outputs": [
    {
     "data": {
      "image/png": "[encoded data removed]",
      "text/plain": [
       "<matplotlib.figure.Figure at 0x1a256127f0>"
      ]
     },
     "metadata": {},
     "output_type": "display_data"
    }
   ],
   "source": [
    "plt.title('Receiver Operating Characteristic - V1')\n",
    "plt.plot(fpr1, tpr1, 'b', label = 'AUC = %0.2f' % roc_auc1)\n",
    "plt.legend(loc = 'lower right')\n",
    "plt.plot([0, 1], [0, 1],'r--')\n",
    "plt.xlim([0, 1])\n",
    "plt.ylim([0, 1])\n",
    "plt.ylabel('True Positive Rate')\n",
    "plt.xlabel('False Positive Rate')\n",
    "plt.savefig(\"V1-Classification-ROC.png\")\n",
    "plt.show()\n",
    "\n",
    "\n",
    "# ROC Curve for v1"
   ]
  },
  {
   "cell_type": "code",
   "execution_count": 703,
   "metadata": {},
   "outputs": [
    {
     "data": {
      "image/png": "[encoded data removed]",
      "text/plain": [
       "<matplotlib.figure.Figure at 0x1a2569c4a8>"
      ]
     },
     "metadata": {},
     "output_type": "display_data"
    }
   ],
   "source": [
    "plt.title('Receiver Operating Characteristic - V2')\n",
    "plt.plot(fpr2, tpr2, 'b', label = 'AUC = %0.2f' % roc_auc2)\n",
    "plt.legend(loc = 'lower right')\n",
    "plt.plot([0, 1], [0, 1],'r--')\n",
    "plt.xlim([0, 1])\n",
    "plt.ylim([0, 1])\n",
    "plt.ylabel('True Positive Rate')\n",
    "plt.xlabel('False Positive Rate')\n",
    "plt.savefig(\"V2-Classification-ROC.png\")\n",
    "plt.show()\n",
    "\n",
    "\n",
    "# ROC Curve for v2"
   ]
  },
  {
   "cell_type": "code",
   "execution_count": 702,
   "metadata": {},
   "outputs": [
    {
     "data": {
      "image/png": "[encoded data removed]",
      "text/plain": [
       "<matplotlib.figure.Figure at 0x1a25655710>"
      ]
     },
     "metadata": {},
     "output_type": "display_data"
    }
   ],
   "source": [
    "plt.title('Receiver Operating Characteristic - V3')\n",
    "plt.plot(fpr3, tpr3, 'b', label = 'AUC = %0.2f' % roc_auc3)\n",
    "plt.legend(loc = 'lower right')\n",
    "plt.plot([0, 1], [0, 1],'r--')\n",
    "plt.xlim([0, 1])\n",
    "plt.ylim([0, 1])\n",
    "plt.ylabel('True Positive Rate')\n",
    "plt.xlabel('False Positive Rate')\n",
    "plt.savefig(\"V3-Classification-ROC.png\")\n",
    "plt.show()\n",
    "\n",
    "# ROC Curve for v3"
   ]
  },
  {
   "cell_type": "code",
   "execution_count": 671,
   "metadata": {},
   "outputs": [
    {
     "data": {
      "text/plain": [
       "0.9613567318472763"
      ]
     },
     "execution_count": 671,
     "metadata": {},
     "output_type": "execute_result"
    }
   ],
   "source": [
    "model_staticRegV1.score(x_testR1, y_testR1)"
   ]
  },
  {
   "cell_type": "code",
   "execution_count": 672,
   "metadata": {},
   "outputs": [],
   "source": [
    "y_predictedR1 = model_staticRegV1.predict(x_testR1)"
   ]
  },
  {
   "cell_type": "code",
   "execution_count": 701,
   "metadata": {},
   "outputs": [
    {
     "data": {
      "image/png": "[encoded data removed]",
      "text/plain": [
       "<matplotlib.figure.Figure at 0x1a258b2b00>"
      ]
     },
     "metadata": {},
     "output_type": "display_data"
    }
   ],
   "source": [
    "import matplotlib.lines as mlines\n",
    "plt.title('True vs. Predicted Data - Regression on V1')\n",
    "plt.scatter(y_testR1, y_predictedR1)\n",
    "line = mlines.Line2D([0, 1], [0, 1], color='red')\n",
    "plt.plot([0, 1], [0, 1],'r-')\n",
    "plt.xlim([0, 1])\n",
    "plt.ylim([0, 1])\n",
    "plt.savefig(\"V1-Regression-Comparison.png\")\n",
    "plt.show()\n"
   ]
  },
  {
   "cell_type": "code",
   "execution_count": 676,
   "metadata": {},
   "outputs": [
    {
     "data": {
      "text/plain": [
       "0.893894867474373"
      ]
     },
     "execution_count": 676,
     "metadata": {},
     "output_type": "execute_result"
    }
   ],
   "source": [
    "model_staticRegV2.score(x_testR2, y_testR2)"
   ]
  },
  {
   "cell_type": "code",
   "execution_count": 677,
   "metadata": {},
   "outputs": [],
   "source": [
    "y_predictedR2 = model_staticRegV2.predict(x_testR2)"
   ]
  },
  {
   "cell_type": "code",
   "execution_count": 700,
   "metadata": {},
   "outputs": [
    {
     "data": {
      "image/png": "[encoded data removed]",
      "text/plain": [
       "<matplotlib.figure.Figure at 0x1a258b52e8>"
      ]
     },
     "metadata": {},
     "output_type": "display_data"
    }
   ],
   "source": [
    "import matplotlib.lines as mlines\n",
    "plt.title('True vs. Predicted Data - Regression on V2')\n",
    "plt.scatter(y_testR2, y_predictedR2)\n",
    "line = mlines.Line2D([0, 1], [0, 1], color='red')\n",
    "plt.plot([0, 1], [0, 1],'r-')\n",
    "plt.xlim([0, 1])\n",
    "plt.ylim([0, 1])\n",
    "plt.savefig(\"V2-Regression-Comparison.png\")\n",
    "plt.show()\n",
    "\n",
    "\n"
   ]
  },
  {
   "cell_type": "code",
   "execution_count": 681,
   "metadata": {},
   "outputs": [
    {
     "data": {
      "text/plain": [
       "0.9999374877913465"
      ]
     },
     "execution_count": 681,
     "metadata": {},
     "output_type": "execute_result"
    }
   ],
   "source": [
    "model_staticRegV3.score(x_testR3, y_testR3)"
   ]
  },
  {
   "cell_type": "code",
   "execution_count": 682,
   "metadata": {},
   "outputs": [],
   "source": [
    "y_predictedR3 = model_staticRegV3.predict(x_testR3)"
   ]
  },
  {
   "cell_type": "code",
   "execution_count": 699,
   "metadata": {},
   "outputs": [
    {
     "data": {
      "image/png": "[encoded data removed]",
      "text/plain": [
       "<matplotlib.figure.Figure at 0x1a257af940>"
      ]
     },
     "metadata": {},
     "output_type": "display_data"
    }
   ],
   "source": [
    "import matplotlib.lines as mlines\n",
    "plt.title('True vs. Predicted Data - Regression on V3')\n",
    "plt.scatter(y_testR3, y_predictedR3)\n",
    "line = mlines.Line2D([0, 1], [0, 1], color='red')\n",
    "plt.plot([0, 1], [0, 1],'r-')\n",
    "plt.xlim([0, 1])\n",
    "plt.ylim([0, 1])\n",
    "plt.savefig(\"V3-Regression-Comparison.png\")\n",
    "plt.show()\n",
    "\n",
    "\n",
    "\n"
   ]
  },
  {
   "cell_type": "code",
   "execution_count": 3,
   "metadata": {},
   "outputs": [
    {
     "data": {
      "text/plain": [
       "Index(['ICU', 'Age', 'Sex', 'Survival Probability', 'Score', 'Kidney', 'Blood',\n",
       "       'Cholesterol', 'Immune', 'ApacheII', 'Urine Volume', 'Creatinine',\n",
       "       'Urea', 'O2', 'HR', 'BP', 'RBC', 'LDL', 'HDL', 'Platelet', 'WBC', 'INR',\n",
       "       'Death'],\n",
       "      dtype='object')"
      ]
     },
     "execution_count": 3,
     "metadata": {},
     "output_type": "execute_result"
    }
   ],
   "source": [
    "### START HERE!\n",
    "import matplotlib.pyplot as plt\n",
    "\n",
    "sim_staticV4 = pd.read_csv(\"../Data/Static_Data_ICU_var4_peak_v2.csv\")\n",
    "sim_staticV4 = sim_staticV4.drop(columns=[\"Unnamed: 0\", \"CHM\"])\n",
    "sim_staticV4 = sim_staticV4.replace([\"M\", \"F\"], [0,1])\n",
    "sim_staticV4.columns"
   ]
  },
  {
   "cell_type": "code",
   "execution_count": 4,
   "metadata": {},
   "outputs": [],
   "source": [
    "x_trainR4, x_testR4, y_trainR4, y_testR4 = train_test_split(sim_staticV4.drop([\"ICU\",\"Death\",\"Survival Probability\"], axis = \"columns\"), sim_staticV4[\"Survival Probability\"], test_size = 0.34)\n"
   ]
  },
  {
   "cell_type": "code",
   "execution_count": 5,
   "metadata": {},
   "outputs": [
    {
     "data": {
      "text/plain": [
       "RandomForestRegressor(bootstrap=True, ccp_alpha=0.0, criterion='mse',\n",
       "                      max_depth=None, max_features='auto', max_leaf_nodes=None,\n",
       "                      max_samples=None, min_impurity_decrease=0.0,\n",
       "                      min_impurity_split=None, min_samples_leaf=1,\n",
       "                      min_samples_split=2, min_weight_fraction_leaf=0.0,\n",
       "                      n_estimators=100, n_jobs=None, oob_score=False,\n",
       "                      random_state=None, verbose=0, warm_start=False)"
      ]
     },
     "execution_count": 5,
     "metadata": {},
     "output_type": "execute_result"
    }
   ],
   "source": [
    "model_staticRegV4 = RandomForestRegressor(n_estimators=100)\n",
    "model_staticRegV4.fit(x_trainR4, y_trainR4)"
   ]
  },
  {
   "cell_type": "code",
   "execution_count": 6,
   "metadata": {},
   "outputs": [
    {
     "data": {
      "text/plain": [
       "0.8077341386809596"
      ]
     },
     "execution_count": 6,
     "metadata": {},
     "output_type": "execute_result"
    }
   ],
   "source": [
    "model_staticRegV4.score(x_testR4, y_testR4)"
   ]
  },
  {
   "cell_type": "code",
   "execution_count": 7,
   "metadata": {},
   "outputs": [],
   "source": [
    "y_predictedR4 = model_staticRegV4.predict(x_testR4)"
   ]
  },
  {
   "cell_type": "code",
   "execution_count": 9,
   "metadata": {},
   "outputs": [
    {
     "data": {
      "image/png": "[encoded data removed]",
      "text/plain": [
       "<matplotlib.figure.Figure at 0x1a19c13400>"
      ]
     },
     "metadata": {},
     "output_type": "display_data"
    }
   ],
   "source": [
    "import matplotlib.lines as mlines\n",
    "plt.title('True vs. Predicted Data - Regression on V4')\n",
    "plt.scatter(y_testR4, y_predictedR4)\n",
    "line = mlines.Line2D([0, 1], [0, 1], color='red')\n",
    "plt.plot([0, 1], [0, 1],'r-')\n",
    "plt.xlim([0, 1])\n",
    "plt.ylim([0, 1])\n",
    "plt.savefig(\"V4-Regression-Comparison.png\")\n",
    "plt.show()"
   ]
  },
  {
   "cell_type": "code",
   "execution_count": null,
   "metadata": {},
   "outputs": [],
   "source": []
  }
 ],
 "metadata": {
  "kernelspec": {
   "display_name": "Python 3",
   "language": "python",
   "name": "python3"
  },
  "language_info": {
   "codemirror_mode": {
    "name": "ipython",
    "version": 3
   },
   "file_extension": ".py",
   "mimetype": "text/x-python",
   "name": "python",
   "nbconvert_exporter": "python",
   "pygments_lexer": "ipython3",
   "version": "3.6.4"
  }
 },
 "nbformat": 4,
 "nbformat_minor": 2
}
